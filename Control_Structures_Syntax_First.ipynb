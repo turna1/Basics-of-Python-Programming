{
  "cells": [
    {
      "cell_type": "markdown",
      "metadata": {
        "id": "view-in-github",
        "colab_type": "text"
      },
      "source": [
        "<a href=\"https://colab.research.google.com/github/turna1/Basics-of-Python-Programming/blob/main/Control_Structures_Syntax_First.ipynb\" target=\"_parent\"><img src=\"https://colab.research.google.com/assets/colab-badge.svg\" alt=\"Open In Colab\"/></a>"
      ]
    },
    {
      "cell_type": "markdown",
      "id": "4caddb12",
      "metadata": {
        "id": "4caddb12"
      },
      "source": [
        "\n",
        "# Python Control Structures\n",
        "\n",
        "by Dr. Rahatara Ferdousi\n",
        "\n",
        "This notebook lists **syntax rules first**, then **code examples** with comments.\n",
        "\n",
        "We cover:\n",
        "1) Conditionals: `if` / `elif` / `else`  \n",
        "2) `for` loops + `range()` patterns  \n",
        "3) `while` loops  \n",
        "4) Loop controls: `break`, `continue`, `pass`  \n",
        "5) Loop `else` (search / prime pattern)  \n",
        "6) One-line `if…else` (ternary)  \n",
        "7) `match` / `case` (Python 3.10+)  \n",
        "8) Error handling: `try` / `except` / `else` / `finally`  \n",
        "9) Quick Practice (with starter code)\n"
      ]
    },
    {
      "cell_type": "markdown",
      "id": "f4fdeee3",
      "metadata": {
        "id": "f4fdeee3"
      },
      "source": [
        "\n",
        "## 1) Conditionals — Syntax Rules\n",
        "\n",
        "**Basic**\n",
        "```python\n",
        "if <condition>:\n",
        "    <block>\n",
        "elif <condition>:\n",
        "    <block>\n",
        "else:\n",
        "    <block>\n",
        "```\n",
        "\n",
        "- End header lines with `:`  \n",
        "- Indent blocks consistently (usually 4 spaces)  \n",
        "- Conditions must be Boolean expressions: `x > 0`, `name == \"Alice\"`  \n",
        "- Use `==` for equality (not `=`)  \n",
        "- Evaluated top-to-bottom: the **first True** branch runs; others are skipped\n"
      ]
    },
    {
      "cell_type": "code",
      "execution_count": null,
      "id": "7b054f50",
      "metadata": {
        "colab": {
          "base_uri": "https://localhost:8080/"
        },
        "id": "7b054f50",
        "outputId": "448241d8-99e4-4987-c699-c596409d5581"
      },
      "outputs": [
        {
          "output_type": "stream",
          "name": "stdout",
          "text": [
            "Score 83: Grade B\n"
          ]
        }
      ],
      "source": [
        "\n",
        "# 1) Conditionals\n",
        "\n",
        "score = 83\n",
        "\n",
        "if score >= 90:\n",
        "  grade = \"A\"\n",
        "elif score >= 80:\n",
        "    grade = \"B\"\n",
        "elif score >= 70:\n",
        "    grade = \"C\"\n",
        "else:\n",
        "    grade = \"D or below\"\n",
        "\n",
        "print(f\"Score {score}: Grade {grade}\")\n",
        "\n",
        "\n"
      ]
    },
    {
      "cell_type": "code",
      "source": [
        "# TWEAK: Reorder comparisons (e.g., check >= 80 before >= 90) to see why order matters.# TWEAK: try 95, 75, 60\n",
        "# 1) Conditionals\n",
        "\n",
        "score = 83\n",
        "\n",
        "if score >= 80:\n",
        "    grade = \"B\"\n",
        "elif score >= 90:\n",
        "    grade = \"A\"\n",
        "elif score >= 70:\n",
        "    grade = \"C\"\n",
        "else:\n",
        "    grade = \"D or below\"\n",
        "\n",
        "print(f\"Score {score}: Grade {grade}\")"
      ],
      "metadata": {
        "colab": {
          "base_uri": "https://localhost:8080/"
        },
        "id": "oFwvqGo2pOB2",
        "outputId": "3fb19592-5b35-413c-f391-8b3dbc8c173d"
      },
      "id": "oFwvqGo2pOB2",
      "execution_count": null,
      "outputs": [
        {
          "output_type": "stream",
          "name": "stdout",
          "text": [
            "Score 83: Grade B\n"
          ]
        }
      ]
    },
    {
      "cell_type": "markdown",
      "id": "c922a316",
      "metadata": {
        "id": "c922a316"
      },
      "source": [
        "\n",
        "## 2) `for` Loops — Syntax Rules\n",
        "\n",
        "**Iterate over a sequence**\n",
        "```python\n",
        "for <var> in <iterable>:\n",
        "    <block>\n",
        "```\n",
        "\n",
        "Common iterables: lists, strings, tuples, dicts (keys), `range()`, generators.\n",
        "\n",
        "### `range()` patterns (exclusive of `stop`)\n",
        "- `range(stop)` : 0, 1, 2, …, stop-1  \n",
        "- `range(start, stop)` : start, start+1, …, stop-1  \n",
        "- `range(start, stop, step)` : includes step (can be negative)\n",
        "\n",
        "Examples:  \n",
        "- `range(5)` : 0..4  \n",
        "- `range(2, 6)` : 2,3,4,5  \n",
        "- `range(10, 0, -2)` : 10,8,6,4,2\n"
      ]
    },
    {
      "cell_type": "markdown",
      "source": [
        "## Lists in Python\n",
        "\n",
        "A **list** is an ordered collection of items.  \n",
        "- Written with square brackets `[]`  \n",
        "- Items can be numbers, strings, or even mixed types  \n",
        "- Lists are **mutable**: you can add, remove, or change items  \n",
        "\n",
        "### Examples\n",
        "```python\n",
        "fruits = [\"apple\", \"banana\", \"cherry\"]   # string list\n",
        "numbers = [10, 20, 30, 40]              # numeric list\n",
        "mixed   = [1, \"two\", 3.0, True]         # mixed list\n",
        "```\n",
        "**Accessing items**\n",
        "\n",
        "Indexing starts at 0 : fruits[0] is \"apple\"\n",
        "\n",
        "Negative indices count from the end : fruits[-1] is \"cherry\"\n",
        "\n",
        "Use len(fruits) to get the length of the list\n",
        "\n",
        "**Why lists matter in loops?**\n",
        "\n",
        "Lists are one of the most common things to iterate over in Python.\n",
        "You can loop by:\n",
        "\n",
        "Indices (range(len(...)))\n",
        "\n",
        "Index + value (enumerate(...))\n",
        "\n",
        "Direct values (for item in list:)\n"
      ],
      "metadata": {
        "id": "lOn5a9A5q50F"
      },
      "id": "lOn5a9A5q50F"
    },
    {
      "cell_type": "code",
      "execution_count": null,
      "id": "fedd8d20",
      "metadata": {
        "colab": {
          "base_uri": "https://localhost:8080/"
        },
        "id": "fedd8d20",
        "outputId": "a75fb02d-6417-4cce-f095-1d5b685c098e"
      },
      "outputs": [
        {
          "output_type": "stream",
          "name": "stdout",
          "text": [
            "range(5): [0, 1, 2, 3, 4]\n",
            "range(2, 6): [2, 3, 4, 5]\n",
            "range(10, 0, -2): [10, 8, 6, 4, 2]\n"
          ]
        }
      ],
      "source": [
        "\n",
        "# 2) for loop using range\n",
        "\n",
        "print(\"range(5):\", list(range(5)))                   # 0..4\n",
        "print(\"range(2, 6):\", list(range(2, 6)))             # 2..5\n",
        "print(\"range(10, 0, -2):\", list(range(10, 0, -2)))   # 10,8,6,4,2\n",
        "\n",
        "\n",
        "\n"
      ]
    },
    {
      "cell_type": "code",
      "source": [
        "# Sum of prices\n",
        "prices = [12.99, 8.50, 4.25, 2.30]\n",
        "total = 0.0\n",
        "for p in prices:\n",
        "    total += p # total = total + p\n",
        "    print(\"value P\", p)\n",
        "print(\"Total:\", total)\n"
      ],
      "metadata": {
        "colab": {
          "base_uri": "https://localhost:8080/"
        },
        "id": "ghtToWWLybqP",
        "outputId": "c1591c0b-a49d-4247-d44d-735ec425e6cb"
      },
      "id": "ghtToWWLybqP",
      "execution_count": null,
      "outputs": [
        {
          "output_type": "stream",
          "name": "stdout",
          "text": [
            "value P 12.99\n",
            "value P 8.5\n",
            "value P 4.25\n",
            "value P 2.3\n",
            "Total: 28.040000000000003\n"
          ]
        }
      ]
    },
    {
      "cell_type": "code",
      "source": [
        "\n",
        "# First 5 even numbers using range(start, stop, step)\n",
        "for n in range(0, 10, 2):  # 0, 2, 4, 6, 8\n",
        "    print(\"even:\", n)\n"
      ],
      "metadata": {
        "colab": {
          "base_uri": "https://localhost:8080/"
        },
        "id": "7CN7J2gIr9eY",
        "outputId": "60c6f511-c37a-43fc-f9f3-3df816afb585"
      },
      "id": "7CN7J2gIr9eY",
      "execution_count": null,
      "outputs": [
        {
          "output_type": "stream",
          "name": "stdout",
          "text": [
            "even: 0\n",
            "even: 2\n",
            "even: 4\n",
            "even: 6\n",
            "even: 8\n"
          ]
        }
      ]
    },
    {
      "cell_type": "code",
      "source": [
        "# TWEAKS:\n",
        "# - Change step to 3\n",
        "# - Iterate over a string (e.g., for ch in \"hello\": print(ch))"
      ],
      "metadata": {
        "id": "xTBaXqBhr6XX"
      },
      "id": "xTBaXqBhr6XX",
      "execution_count": null,
      "outputs": []
    },
    {
      "cell_type": "code",
      "source": [
        "# for loop with range(len(...)) — Example\n",
        "\n",
        "fruits = [\"apple\", \"banana\", \"cherry\", \"date\"]\n",
        "\n",
        "# Loop until list length using indices\n",
        "for i in range(len(fruits)):\n",
        "    print(\"Index:\", i, \"Value:\", fruits[i])\n",
        "\n",
        "\n"
      ],
      "metadata": {
        "colab": {
          "base_uri": "https://localhost:8080/"
        },
        "id": "mN5SYJhisRUe",
        "outputId": "f2dafa4e-8f51-452b-84ae-ea5e8ef84240"
      },
      "id": "mN5SYJhisRUe",
      "execution_count": null,
      "outputs": [
        {
          "output_type": "stream",
          "name": "stdout",
          "text": [
            "Index: 0 Value: apple\n",
            "Index: 1 Value: banana\n",
            "Index: 2 Value: cherry\n",
            "Index: 3 Value: date\n"
          ]
        }
      ]
    },
    {
      "cell_type": "code",
      "source": [
        "# TWEAKS:\n",
        "# - Add another fruit and see how the loop adapts automatically\n",
        "# - Replace 'fruits[i]' with just 'i' to print only indices\n",
        "# - Compare with direct iteration: for fruit in fruits:"
      ],
      "metadata": {
        "id": "Kck6VMDEsVjS"
      },
      "id": "Kck6VMDEsVjS",
      "execution_count": null,
      "outputs": []
    },
    {
      "cell_type": "code",
      "source": [
        "#for loop with enumerate — Example\n",
        "\n",
        "fruits = [\"apple\", \"banana\", \"cherry\", \"date\"]\n",
        "\n",
        "# Using enumerate to get both index and value\n",
        "for idx, fruit in enumerate(fruits):\n",
        "    print(\"Index:\", idx, \"Value:\", fruit)\n",
        "\n"
      ],
      "metadata": {
        "colab": {
          "base_uri": "https://localhost:8080/"
        },
        "id": "cpfP344Hsnyu",
        "outputId": "155e026c-9739-4b50-cddd-1d6996ab16d4"
      },
      "id": "cpfP344Hsnyu",
      "execution_count": null,
      "outputs": [
        {
          "output_type": "stream",
          "name": "stdout",
          "text": [
            "Index: 0 Value: apple\n",
            "Index: 1 Value: banana\n",
            "Index: 2 Value: cherry\n",
            "Index: 3 Value: date\n"
          ]
        }
      ]
    },
    {
      "cell_type": "code",
      "source": [
        "# TWEAKS:\n",
        "# - Try enumerate(fruits, start=1) to start indexing from 1\n",
        "# - Add more fruits and rerun"
      ],
      "metadata": {
        "id": "ARJPHdMusmgt"
      },
      "id": "ARJPHdMusmgt",
      "execution_count": null,
      "outputs": []
    },
    {
      "cell_type": "markdown",
      "id": "c0c17db8",
      "metadata": {
        "id": "c0c17db8"
      },
      "source": [
        "\n",
        "## 3) `while` Loops — Syntax Rules\n",
        "\n",
        "**Repeat while condition is True**\n",
        "```python\n",
        "while <condition>:\n",
        "    <block>\n",
        "```\n",
        "\n",
        "- Condition is checked **before** each iteration  \n",
        "- Make sure something changes to avoid infinite loops  \n",
        "- Use for unknown/indefinite counts (e.g., read until empty)\n"
      ]
    },
    {
      "cell_type": "code",
      "execution_count": null,
      "id": "4b4963d0",
      "metadata": {
        "colab": {
          "base_uri": "https://localhost:8080/"
        },
        "id": "4b4963d0",
        "outputId": "eace5045-7674-4506-8c84-61a9639e60f6"
      },
      "outputs": [
        {
          "output_type": "stream",
          "name": "stdout",
          "text": [
            "T-minus 3\n",
            "T-minus 2\n",
            "T-minus 1\n",
            "Lift off!\n"
          ]
        }
      ],
      "source": [
        "\n",
        "# 3) while — Countdown example\n",
        "\n",
        "count = 3  # TWEAK: set to 0 (loop won't run) or 5 (more iterations)\n",
        "while count > 0:\n",
        "    print(\"T-minus\", count)\n",
        "    count -= 1  # critical: progress toward stopping = count = count -1\n",
        "\n",
        "print(\"Lift off!\")\n",
        "\n",
        "# TWEAK: Comment out the decrement to see an infinite loop risk (don't actually run!)\n"
      ]
    },
    {
      "cell_type": "markdown",
      "id": "06580108",
      "metadata": {
        "id": "06580108"
      },
      "source": [
        "\n",
        "## 4) Loop Controls — Syntax Rules\n",
        "\n",
        "- `break`: exit the nearest loop immediately  \n",
        "- `continue`: skip to the next iteration  \n",
        "- `pass`: do nothing (placeholder)\n",
        "\n",
        "**Patterns**\n",
        "```python\n",
        "for x in iterable:\n",
        "    if <skip_cond>:\n",
        "        continue\n",
        "    if <stop_cond>:\n",
        "        break\n",
        "    <rest>\n",
        "```\n"
      ]
    },
    {
      "cell_type": "code",
      "execution_count": null,
      "id": "de8af495",
      "metadata": {
        "colab": {
          "base_uri": "https://localhost:8080/"
        },
        "id": "de8af495",
        "outputId": "78cadd34-0324-4d3b-f7f0-f8a69b53c134"
      },
      "outputs": [
        {
          "output_type": "stream",
          "name": "stdout",
          "text": [
            "Non-negative (not 9): 5\n",
            "Non-negative (not 9): 0\n",
            "Found 9 -> breaking early\n"
          ]
        }
      ],
      "source": [
        "\n",
        "# 4) break / continue / pass — Examples\n",
        "\n",
        "nums = [5, -1, 0, 9, -3, 7]\n",
        "\n",
        "for x in nums:\n",
        "    if x < 0:\n",
        "        # skip negatives\n",
        "        continue\n",
        "    if x == 9:\n",
        "        print(\"Found 9 -> breaking early\")\n",
        "        break\n",
        "    print(\"Non-negative (not 9):\", x)\n",
        "\n",
        "\n"
      ]
    },
    {
      "cell_type": "code",
      "source": [
        "# 'pass' as a placeholder (syntactically valid, does nothing)\n",
        "for item in range(2):\n",
        "    pass\n"
      ],
      "metadata": {
        "id": "XLY8YyEi44Sr"
      },
      "id": "XLY8YyEi44Sr",
      "execution_count": null,
      "outputs": []
    },
    {
      "cell_type": "markdown",
      "id": "11d7965c",
      "metadata": {
        "id": "11d7965c"
      },
      "source": [
        "\n",
        "## 5) Loop `else` — Syntax Rules\n",
        "\n",
        "The `else` attached to a loop runs **only if the loop did not break**.\n",
        "\n",
        "**For loop**\n",
        "```python\n",
        "for item in items:\n",
        "    if <found_condition>:\n",
        "        break\n",
        "else:\n",
        "    <ran_only_if_no_break>\n",
        "```\n",
        "\n",
        "Great for search patterns (e.g., report “not found” neatly) and **prime checks**.\n"
      ]
    },
    {
      "cell_type": "code",
      "execution_count": null,
      "id": "ae00c1f8",
      "metadata": {
        "colab": {
          "base_uri": "https://localhost:8080/"
        },
        "id": "ae00c1f8",
        "outputId": "cfbb7ddb-29ae-445c-f946-d0c29696aeeb"
      },
      "outputs": [
        {
          "output_type": "stream",
          "name": "stdout",
          "text": [
            "Not found: delta\n"
          ]
        }
      ],
      "source": [
        "\n",
        "# 5) Loop else — Search example\n",
        "\n",
        "items = [\"alpha\", \"beta\", \"gamma\"]\n",
        "target = \"delta\"  # TWEAK: set to \"gamma\"\n",
        "\n",
        "for it in items:\n",
        "    if it == target:\n",
        "        print(\"Found:\", target)\n",
        "        break\n",
        "else:\n",
        "    print(\"Not found:\", target)\n"
      ]
    },
    {
      "cell_type": "markdown",
      "id": "663296c8",
      "metadata": {
        "id": "663296c8"
      },
      "source": [
        "\n",
        "## 6) One-line `if…else` (Ternary) — Syntax Rules\n",
        "\n",
        "**Expression form** (returns a value):\n",
        "```python\n",
        "<value_if_true> if <condition> else <value_if_false>\n",
        "```\n",
        "\n",
        "Use for **short** decisions; prefer block `if/elif/else` for complex logic.\n"
      ]
    },
    {
      "cell_type": "code",
      "execution_count": null,
      "id": "6402c55a",
      "metadata": {
        "colab": {
          "base_uri": "https://localhost:8080/"
        },
        "id": "6402c55a",
        "outputId": "37d0d31e-d0c0-4fbb-e2be-9e63586ff082"
      },
      "outputs": [
        {
          "output_type": "stream",
          "name": "stdout",
          "text": [
            "Status: Adult\n"
          ]
        }
      ],
      "source": [
        "\n",
        "# 6) Ternary — Short decisions\n",
        "\n",
        "age = 20  # TWEAK: 16\n",
        "status = \"Adult\" if age >= 18 else \"Minor\"\n",
        "print(\"Status:\", status)\n",
        "\n",
        "\n"
      ]
    },
    {
      "cell_type": "code",
      "source": [
        "a, b = 12, 19  # TWEAK: swap values\n",
        "maximum = a if a > b else b\n",
        "print(\"Max:\", maximum)\n",
        "\n"
      ],
      "metadata": {
        "colab": {
          "base_uri": "https://localhost:8080/"
        },
        "id": "SrAEvqLs58JG",
        "outputId": "a0914777-8e73-451a-a67d-da9079e65016"
      },
      "id": "SrAEvqLs58JG",
      "execution_count": null,
      "outputs": [
        {
          "output_type": "stream",
          "name": "stdout",
          "text": [
            "Max: 19\n"
          ]
        }
      ]
    },
    {
      "cell_type": "code",
      "source": [
        "# Inline quick check (even/odd)\n",
        "n = 13  # TWEAK: 12\n",
        "print(\"Even\" if n % 2 == 0 else \"Odd\")"
      ],
      "metadata": {
        "colab": {
          "base_uri": "https://localhost:8080/"
        },
        "id": "XoFFBtdb6KPC",
        "outputId": "7fb8050b-c1bb-40e5-9294-4d6fa72a1b3d"
      },
      "id": "XoFFBtdb6KPC",
      "execution_count": null,
      "outputs": [
        {
          "output_type": "stream",
          "name": "stdout",
          "text": [
            "Odd\n"
          ]
        }
      ]
    },
    {
      "cell_type": "markdown",
      "id": "f7ef4429",
      "metadata": {
        "id": "f7ef4429"
      },
      "source": [
        "\n",
        "## 7) Examples: Even/Odd, Prime Number, Grading\n",
        "\n",
        "These examples tie together conditionals and loops with practical tasks.\n"
      ]
    },
    {
      "cell_type": "code",
      "execution_count": null,
      "id": "20e6bb24",
      "metadata": {
        "colab": {
          "base_uri": "https://localhost:8080/"
        },
        "id": "20e6bb24",
        "outputId": "9a97460f-cde9-430f-945d-673e60eb483b"
      },
      "outputs": [
        {
          "output_type": "stream",
          "name": "stdout",
          "text": [
            "42 is Even\n"
          ]
        }
      ],
      "source": [
        "\n",
        "# Even / Odd classification\n",
        "n = 42  # TWEAK: 13\n",
        "if n % 2 == 0:\n",
        "    print(n, \"is Even\")\n",
        "else:\n",
        "    print(n, \"is Odd\")\n",
        "\n",
        "\n"
      ]
    },
    {
      "cell_type": "code",
      "source": [
        "# Prime number check using for + loop-else\n",
        "# A number n is prime if n >= 2 and has no divisors in 2..sqrt(n)\n",
        "n = 15 # TWEAK: 1, 2, 9, 31\n",
        "if n < 2:\n",
        "    print(n, \"is NOT prime (by definition)\")\n",
        "else:\n",
        "    # Assume prime until proven otherwise\n",
        "    for d in range(2, int(n**0.5) + 1):\n",
        "        print(\"Checking divisor:\", d)\n",
        "        if n % d == 0:\n",
        "            print(n, \"is NOT prime — divisible by\", d)\n",
        "            break\n",
        "    else:\n",
        "        # No break → no divisors found\n",
        "        print(n, \"is PRIME\")\n",
        "\n"
      ],
      "metadata": {
        "colab": {
          "base_uri": "https://localhost:8080/"
        },
        "id": "g03ambpi6sm2",
        "outputId": "1ed656db-bf87-42fd-a558-f62f5540ab7a"
      },
      "id": "g03ambpi6sm2",
      "execution_count": null,
      "outputs": [
        {
          "output_type": "stream",
          "name": "stdout",
          "text": [
            "Checking divisor: 2\n",
            "Checking divisor: 3\n",
            "15 is NOT prime — divisible by 3\n"
          ]
        }
      ]
    },
    {
      "cell_type": "code",
      "source": [
        "\n",
        "# Grading with standard bins\n",
        "score = 71  # TWEAK: 95, 83, 69\n",
        "if score >= 90:\n",
        "    grade = \"A\"\n",
        "elif score >= 80:\n",
        "    grade = \"B\"\n",
        "elif score >= 70:\n",
        "    grade = \"C\"\n",
        "elif score >= 60:\n",
        "    grade = \"D\"\n",
        "else:\n",
        "    grade = \"F\"\n",
        "print(f\"Score {score} -> Grade {grade}\")"
      ],
      "metadata": {
        "id": "HBzjcT866Ynm"
      },
      "id": "HBzjcT866Ynm",
      "execution_count": null,
      "outputs": []
    },
    {
      "cell_type": "markdown",
      "id": "7d121197",
      "metadata": {
        "id": "7d121197"
      },
      "source": [
        "\n",
        "## 8) Error Handling — `try` / `except` / `else` / `finally`\n",
        "\n",
        "Sometimes code fails (e.g., divide by zero, convert text to int).  \n",
        "Instead of crashing, Python lets you **catch the error** and decide what to do.\n",
        "\n",
        "### Syntax\n",
        "```python\n",
        "try:\n",
        "    <risky_code>\n",
        "except <SpecificError>:\n",
        "    <handler>\n",
        "else:\n",
        "    # runs if no error occurred\n",
        "finally:\n",
        "    # always runs (cleanup)\n",
        "```\n",
        "\n",
        "### Best Practices\n",
        "- Catch **specific exceptions** (`ValueError`, `ZeroDivisionError`), not a bare `except:`  \n",
        "- Keep `try` blocks **small** (only wrap the risky part)  \n",
        "- Use `finally` for cleanup (close files, release resources)\n"
      ]
    },
    {
      "cell_type": "code",
      "execution_count": null,
      "id": "3d9db3f3",
      "metadata": {
        "colab": {
          "base_uri": "https://localhost:8080/"
        },
        "id": "3d9db3f3",
        "outputId": "f7c72d29-db8b-42d1-91dc-1b180b345f97"
      },
      "outputs": [
        {
          "output_type": "stream",
          "name": "stdout",
          "text": [
            "Error: cannot divide by zero\n",
            "Division attempt finished.\n"
          ]
        }
      ],
      "source": [
        "\n",
        "# Example A: Safe division\n",
        "a, b = 10, 0  # TWEAK: try b = 2\n",
        "try:\n",
        "    result = a / b\n",
        "except ZeroDivisionError:\n",
        "    print(\"Error: cannot divide by zero\")\n",
        "else:\n",
        "    print(\"Result =\", result)\n",
        "finally:\n",
        "    print(\"Division attempt finished.\")\n"
      ]
    },
    {
      "cell_type": "code",
      "execution_count": null,
      "id": "ddccfb5d",
      "metadata": {
        "id": "ddccfb5d"
      },
      "outputs": [],
      "source": [
        "\n",
        "# Example B: Safe integer conversion\n",
        "raw_inputs = [\"42\", \"hello\", \"3.14\"]\n",
        "\n",
        "for raw in raw_inputs:\n",
        "    try:\n",
        "        num = int(raw)\n",
        "    except ValueError:\n",
        "        print(f\"'{raw}' is not an integer!\")\n",
        "    else:\n",
        "        print(\"Converted:\", num)\n"
      ]
    },
    {
      "cell_type": "code",
      "execution_count": null,
      "id": "906ecdb0",
      "metadata": {
        "id": "906ecdb0"
      },
      "outputs": [],
      "source": [
        "\n",
        "# Example C: Common mistake — catching everything\n",
        "try:\n",
        "    x = int(\"abc\")\n",
        "except:  # Bad: hides real errors\n",
        "    print(\"Something went wrong\")\n",
        "\n",
        "# Better\n",
        "try:\n",
        "    x = int(\"abc\")\n",
        "except ValueError:\n",
        "    print(\"Please enter digits only\")\n"
      ]
    },
    {
      "cell_type": "markdown",
      "id": "d86b566a",
      "metadata": {
        "id": "d86b566a"
      },
      "source": [
        "\n",
        "## 9) Quick Practice Problems\n",
        "\n",
        "Try these on your own. Code templates are provided below:\n",
        "\n",
        "1. **Leap Year**: Print `\"Leap Year\"` if `year % 4 == 0`, else `\"Not Leap Year\"`.  \n",
        "2. **Multiples of 3**: Print the first 10 multiples of 3 (3, 6, …, 30).  \n",
        "3. **Prime Checker**: Modify the prime checker to print **all divisors** if not prime.  \n",
        "4. **Grading with +**: Add `\"+\"` for scores ending in 7–9 (e.g., 87 → `B+`).  \n",
        "5. **Safe Input**: Ask the user for a number. If not valid, catch the error and print `\"Invalid input\"`.\n"
      ]
    },
    {
      "cell_type": "code",
      "execution_count": null,
      "id": "eded6612",
      "metadata": {
        "id": "eded6612"
      },
      "outputs": [],
      "source": [
        "\n",
        "# 1. Leap Year\n",
        "year = 2024  # TWEAK: 2025\n",
        "print(\"Leap Year\" if year % 4 == 0 else \"Not Leap Year\")\n"
      ]
    },
    {
      "cell_type": "code",
      "execution_count": null,
      "id": "63d4b6d0",
      "metadata": {
        "id": "63d4b6d0"
      },
      "outputs": [],
      "source": [
        "\n",
        "# 2. First 10 multiples of 3\n",
        "for n in range(1, 11):\n",
        "    print(3 * n, end=\" \")\n",
        "print()\n"
      ]
    },
    {
      "cell_type": "code",
      "execution_count": null,
      "id": "c805cce1",
      "metadata": {
        "id": "c805cce1"
      },
      "outputs": [],
      "source": [
        "\n",
        "# 3. Prime checker with all divisors\n",
        "n = 30  # TWEAK: 29\n",
        "if n < 2:\n",
        "    print(n, \"is NOT prime\")\n",
        "else:\n",
        "    divisors = []\n",
        "    for d in range(2, n):\n",
        "        if n % d == 0:\n",
        "            divisors.append(d)\n",
        "    if divisors:\n",
        "        print(n, \"is NOT prime. Divisors:\", divisors)\n",
        "    else:\n",
        "        print(n, \"is PRIME\")\n"
      ]
    },
    {
      "cell_type": "code",
      "execution_count": null,
      "id": "f2b3540d",
      "metadata": {
        "id": "f2b3540d"
      },
      "outputs": [],
      "source": [
        "\n",
        "# 4. Grading with + sign\n",
        "score = 87\n",
        "if score >= 90:\n",
        "    grade = \"A\"\n",
        "elif score >= 80:\n",
        "    grade = \"B\"\n",
        "elif score >= 70:\n",
        "    grade = \"C\"\n",
        "elif score >= 60:\n",
        "    grade = \"D\"\n",
        "else:\n",
        "    grade = \"F\"\n",
        "\n",
        "# Add + if last digit is 7–9 and grade is not F\n",
        "if grade != \"F\" and score % 10 >= 7:\n",
        "    grade += \"+\"\n",
        "print(f\"Score {score} -> Grade {grade}\")\n"
      ]
    },
    {
      "cell_type": "code",
      "execution_count": null,
      "id": "53674718",
      "metadata": {
        "id": "53674718"
      },
      "outputs": [],
      "source": [
        "\n",
        "# 5. Safe input with try/except\n",
        "raw = \"xyz\"  # TWEAK: change to \"42\" or \"  9\"\n",
        "try:\n",
        "    num = int(raw)\n",
        "    print(\"You entered:\", num)\n",
        "except ValueError:\n",
        "    print(\"Invalid input\")\n"
      ]
    },
    {
      "cell_type": "markdown",
      "source": [
        "## 10) Common Syntax & Logic Mistakes\n",
        "\n",
        "- Missing colons (`:`) after `if`, `elif`, `else`, `for`, `while`, `match`, `case`\n",
        "- Using `=` instead of `==` in conditions\n",
        "- Inconsistent indentation (mixing tabs/spaces)\n",
        "- While loop variable never changes → infinite loop\n",
        "- Using a bare value as a condition (`if 5:`) instead of a Boolean expression\n",
        "- Catch-all `except:` that hides real errors (prefer specific exception types)\n",
        "- Order of `elif` tests causing earlier, broader conditions to shadow later, stricter ones\n"
      ],
      "metadata": {
        "id": "uSdT8C_tnUD5"
      },
      "id": "uSdT8C_tnUD5"
    },
    {
      "cell_type": "code",
      "source": [
        "#assignment in condition\n",
        " if score = 100:\n",
        "    print(\"Perfect!\")\n",
        "\n",
        "\n",
        "\n",
        "\n"
      ],
      "metadata": {
        "id": "7F1mf0uNnvc0"
      },
      "id": "7F1mf0uNnvc0",
      "execution_count": null,
      "outputs": []
    },
    {
      "cell_type": "code",
      "source": [
        "# FIXED\n",
        "score = 100\n",
        "if score == 100:\n",
        "    print(\"Perfect!\")"
      ],
      "metadata": {
        "id": "gI6FusaFoDot"
      },
      "id": "gI6FusaFoDot",
      "execution_count": null,
      "outputs": []
    },
    {
      "cell_type": "code",
      "source": [
        "#no indentation\n",
        "if True:\n",
        "print(\"Hello\")\n",
        "\n"
      ],
      "metadata": {
        "id": "dIKsrTZzn9h0"
      },
      "id": "dIKsrTZzn9h0",
      "execution_count": null,
      "outputs": []
    },
    {
      "cell_type": "code",
      "source": [
        "# FIXED\n",
        "if True:\n",
        "    print(\"Hello\")"
      ],
      "metadata": {
        "id": "vplPMpYln_Sk"
      },
      "id": "vplPMpYln_Sk",
      "execution_count": null,
      "outputs": []
    },
    {
      "cell_type": "markdown",
      "metadata": {
        "id": "de78f4fd"
      },
      "source": [
        "\n",
        "## Bonus) `match` / `case` (Python 3.10+) — Syntax & Example\n",
        "\n",
        "```python\n",
        "match <subject>:\n",
        "    case <pattern1>:\n",
        "        <block>\n",
        "    case <pattern2> | <pattern3>:\n",
        "        <block>\n",
        "    case _:\n",
        "        <default_block>\n",
        "```\n"
      ],
      "id": "de78f4fd"
    },
    {
      "cell_type": "code",
      "execution_count": null,
      "metadata": {
        "id": "be5c3e96",
        "colab": {
          "base_uri": "https://localhost:8080/"
        },
        "outputId": "8a5f4b91-5df0-4048-d359-a5d957c78e4b"
      },
      "outputs": [
        {
          "output_type": "stream",
          "name": "stdout",
          "text": [
            "Engine started\n"
          ]
        }
      ],
      "source": [
        "\n",
        "# match/case — Example (requires Python 3.10+; Colab supports this)\n",
        "command = \"start\"\n",
        "match command:\n",
        "    case \"start\":\n",
        "        action = \"Engine started\"\n",
        "    case \"stop\":\n",
        "        action = \"Engine stopped\"\n",
        "    case \"pause\" | \"wait\":\n",
        "        action = \"Engine paused\"\n",
        "    case _:\n",
        "        action = \"Unknown command\"\n",
        "print(action)\n"
      ],
      "id": "be5c3e96"
    }
  ],
  "metadata": {
    "colab": {
      "provenance": [],
      "include_colab_link": true
    },
    "language_info": {
      "name": "python"
    },
    "kernelspec": {
      "name": "python3",
      "display_name": "Python 3"
    }
  },
  "nbformat": 4,
  "nbformat_minor": 5
}