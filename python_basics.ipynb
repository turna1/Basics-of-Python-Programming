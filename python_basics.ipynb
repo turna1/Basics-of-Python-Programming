{
  "nbformat": 4,
  "nbformat_minor": 0,
  "metadata": {
    "colab": {
      "provenance": [],
      "authorship_tag": "ABX9TyNxX1ObHfnJA2DriHBtI1E4",
      "include_colab_link": true
    },
    "kernelspec": {
      "name": "python3",
      "display_name": "Python 3"
    },
    "language_info": {
      "name": "python"
    }
  },
  "cells": [
    {
      "cell_type": "markdown",
      "metadata": {
        "id": "view-in-github",
        "colab_type": "text"
      },
      "source": [
        "<a href=\"https://colab.research.google.com/github/turna1/Basics-of-Python-Programming/blob/main/python_basics.ipynb\" target=\"_parent\"><img src=\"https://colab.research.google.com/assets/colab-badge.svg\" alt=\"Open In Colab\"/></a>"
      ]
    },
    {
      "cell_type": "markdown",
      "source": [
        "# Naming Variable\n",
        " In Python, variable naming follows specific rules and conventions to ensure code readability and functionality.\n",
        "Rules for Variable Naming:\n",
        "Start with a letter or underscore: Variable names must begin with either an alphabet (a-z, A-Z) or an underscore (_). They cannot start with a number.\n",
        "Python\n",
        "\n",
        "    my_variable = 10  # Valid\n",
        "    _private_var = \"hello\" # Valid\n",
        "    1st_variable = 5   # Invalid\n",
        "Allowed characters: Variable names can only contain alphanumeric characters (letters, numbers) and underscores. Special characters (e.g., @, #, $, %, &, !, *, (, ), -, +, =, {, }, [, ], :, ;, ', \", <, >, /, ?, |, `\\`, ., ,, ` `) are not permitted.\n",
        "Python\n",
        "\n",
        "    valid_name = True # Valid\n",
        "    my-variable = 20  # Invalid (hyphen)\n",
        "    user name = \"Alice\" # Invalid (space)\n",
        "Case-sensitive: Python variable names are case-sensitive. myVar, myvar, and MYVAR are considered three distinct variables.\n",
        "Python\n",
        "\n",
        "    age = 30\n",
        "    Age = 35\n",
        "    AGE = 40\n",
        "    print(age, Age, AGE) # Output: 30 35 40\n",
        "No keywords: You cannot use Python's reserved keywords (e.g., if, else, for, while, def, class, import, return, True, False, None) as variable names.\n",
        "Python\n",
        "\n",
        "    for = 5 # Invalid (keyword)\n",
        "Conventions for Variable Naming (PEP 8 recommendations):\n",
        "Snake case: For general variable names, use lowercase letters with words separated by underscores (e.g., my_variable_name).\n",
        "Python\n",
        "\n",
        "    total_count = 100\n",
        "    user_age = 25\n",
        "Descriptive names: Choose meaningful names that clearly indicate the purpose or content of the variable. Avoid overly short or ambiguous names.\n",
        "Python\n",
        "\n",
        "    # Good\n",
        "    customer_id = \"C123\"\n",
        "    # Less good\n",
        "    cid = \"C123\"\n",
        "Constants: For variables intended to be constants (values that should not change), use all uppercase letters with underscores separating words (e.g., MAX_VALUE).\n",
        "Python\n",
        "\n",
        "    MAX_RETRIES = 3\n",
        "    PI = 3.14159\n",
        "Adhering to these rules and conventions promotes code clarity, maintainability, and reduces the likelihood of errors."
      ],
      "metadata": {
        "id": "DXfeRmO8uKDM"
      }
    },
    {
      "cell_type": "code",
      "source": [
        "my_variable = 10  # Valid\n"
      ],
      "metadata": {
        "id": "gQ_acsiSuuCv"
      },
      "execution_count": null,
      "outputs": []
    },
    {
      "cell_type": "code",
      "source": [
        "_private_var = \"hello\" # Valid\n"
      ],
      "metadata": {
        "id": "breQegxxuVHl"
      },
      "execution_count": null,
      "outputs": []
    },
    {
      "cell_type": "code",
      "source": [
        "first_variable = 5   # Invalid"
      ],
      "metadata": {
        "id": "mD83OHULu1wQ"
      },
      "execution_count": null,
      "outputs": []
    },
    {
      "cell_type": "code",
      "source": [
        "valid_name = \"Raha\""
      ],
      "metadata": {
        "id": "xIyWmiXzvO8h"
      },
      "execution_count": null,
      "outputs": []
    },
    {
      "cell_type": "code",
      "source": [
        "valid_name = \"Raha\""
      ],
      "metadata": {
        "id": "-Hwz1xUAvVCr"
      },
      "execution_count": null,
      "outputs": []
    },
    {
      "cell_type": "code",
      "source": [
        "age = 5\n",
        "print(\"her baby is\",age,\"months old\" )"
      ],
      "metadata": {
        "colab": {
          "base_uri": "https://localhost:8080/"
        },
        "id": "6JxOGcNwvsyJ",
        "outputId": "f3078b50-ee08-4c24-c58b-f83b2b267a63"
      },
      "execution_count": null,
      "outputs": [
        {
          "output_type": "stream",
          "name": "stdout",
          "text": [
            "her baby is 5 months old\n"
          ]
        }
      ]
    },
    {
      "cell_type": "code",
      "source": [
        "print(\"her baby is\",age,\"months old\" )"
      ],
      "metadata": {
        "colab": {
          "base_uri": "https://localhost:8080/"
        },
        "id": "-wu-BkOvv-0C",
        "outputId": "6f7f4157-dac1-437c-e221-b47662f67b9e"
      },
      "execution_count": null,
      "outputs": [
        {
          "output_type": "stream",
          "name": "stdout",
          "text": [
            "her baby is 5 months old\n"
          ]
        }
      ]
    },
    {
      "cell_type": "markdown",
      "source": [
        "Let's build a calculator that converts the distance from miles to km"
      ],
      "metadata": {
        "id": "u1R-DbwR0Tfm"
      }
    },
    {
      "cell_type": "code",
      "source": [
        "403 * 1.60934"
      ],
      "metadata": {
        "colab": {
          "base_uri": "https://localhost:8080/"
        },
        "id": "jc3thbvB0cHi",
        "outputId": "e65a495b-7f2f-4c8f-a193-921fb2dd0776"
      },
      "execution_count": null,
      "outputs": [
        {
          "output_type": "execute_result",
          "data": {
            "text/plain": [
              "648.56402"
            ]
          },
          "metadata": {},
          "execution_count": 13
        }
      ]
    },
    {
      "cell_type": "code",
      "source": [
        "distance_to_london_miles = 403\n",
        "miles_to_km = 1.60934\n",
        "distance_to_london_km = distance_to_london_miles * miles_to_km\n",
        "print(\"conversion in km is:\", distance_to_london_km)"
      ],
      "metadata": {
        "colab": {
          "base_uri": "https://localhost:8080/"
        },
        "id": "Fu2lfcMd0k65",
        "outputId": "a6a06e10-8f2c-48e8-e946-d3984e8a140c"
      },
      "execution_count": null,
      "outputs": [
        {
          "output_type": "stream",
          "name": "stdout",
          "text": [
            "conversion in km is: 648.56402\n"
          ]
        }
      ]
    },
    {
      "cell_type": "code",
      "source": [
        "input_distance = float(input (\"enter the distance\"))\n",
        "unit = input (\"enter the unit\")\n",
        "conversion_factor = float(input (\"enter the conversion factor\"))\n",
        "result = input_distance*conversion_factor\n",
        "print(\"the output  distance is\", result, unit)"
      ],
      "metadata": {
        "colab": {
          "base_uri": "https://localhost:8080/"
        },
        "id": "J27cXOWt1BO2",
        "outputId": "dbd2b0db-dfb2-4586-eebe-1709a14eaa52"
      },
      "execution_count": null,
      "outputs": [
        {
          "output_type": "stream",
          "name": "stdout",
          "text": [
            "enter the distance4635\n",
            "enter the unitmi\n",
            "enter the conversion factor0.621371\n",
            "the output  distance is 2880.054585 mi\n"
          ]
        }
      ]
    },
    {
      "cell_type": "markdown",
      "source": [
        "# Python Operators\n",
        "\n",
        "Python operators facilitate various operations on data. They can be broadly categorized into **arithmetic**, **comparison (relational)**, and **logical operators**, which are fundamental for building expressions and controlling program flow in conditional statements.\n",
        "\n",
        "---\n",
        "\n",
        "## 🔢 Arithmetic Operators\n",
        "These perform mathematical calculations.\n",
        "\n",
        "| Operator | Description                             | Example                     |\n",
        "|----------|-----------------------------------------|-----------------------------|\n",
        "| `+`      | Addition                                | `5 + 3` → `8`              |\n",
        "| `-`      | Subtraction                             | `5 - 3` → `2`              |\n",
        "| `*`      | Multiplication                          | `5 * 3` → `15`             |\n",
        "| `/`      | Division (returns a float)              | `5 / 3` → `1.666...`       |\n",
        "| `//`     | Floor Division (integer result)         | `5 // 3` → `1`             |\n",
        "| `%`      | Modulo (remainder of division)          | `5 % 3` → `2`              |\n",
        "| `**`     | Exponentiation (power)                  | `5 ** 3` → `125`           |\n",
        "\n",
        "---\n",
        "\n",
        "## ⚖️ Comparison (Relational) Operators\n",
        "These compare two values and return a **Boolean result** (`True` or `False`).\n",
        "\n",
        "| Operator | Description                 | Example                |\n",
        "|----------|-----------------------------|------------------------|\n",
        "| `==`     | Equal to                    | `5 == 3` → `False`    |\n",
        "| `!=`     | Not equal to                | `5 != 3` → `True`     |\n",
        "| `>`      | Greater than                | `5 > 3` → `True`      |\n",
        "| `<`      | Less than                   | `5 < 3` → `False`     |\n",
        "| `>=`     | Greater than or equal to    | `5 >= 3` → `True`     |\n",
        "| `<=`     | Less than or equal to       | `5 <= 3` → `False`    |\n",
        "\n",
        "---\n",
        "\n",
        "## 🔗 Logical Operators\n",
        "These combine conditional statements and return a Boolean result.\n",
        "\n",
        "| Operator | Description                              | Example                                   |\n",
        "|----------|------------------------------------------|-------------------------------------------|\n",
        "| `and`    | True if **both** conditions are True     | `(5 > 3) and (2 < 4)` → `True`           |\n",
        "| `or`     | True if **at least one** is True         | `(5 > 3) or (2 > 4)` → `True`            |\n",
        "| `not`    | Inverts Boolean value                    | `not (5 > 3)` → `False`                  |\n",
        "\n",
        "---\n",
        "\n",
        "## 📌 Note on Operator Precedence\n",
        "Python follows a specific **order of operations** (precedence):\n",
        "\n",
        "- Arithmetic operators have **higher precedence** than comparison operators.  \n",
        "- Comparison operators have higher precedence than logical operators.  \n",
        "- `*` and `/` are evaluated before `+` and `-`.  \n",
        "- Parentheses `()` can be used to explicitly control evaluation order.  \n",
        "\n",
        "### Example:\n",
        "\n",
        "```python\n",
        "result = 2 + 3 * 4   # Multiplication (3*4) is done first\n",
        "print(result)        # Output: 14\n",
        "\n",
        "result_with_parentheses = (2 + 3) * 4  # Addition is done first\n",
        "print(result_with_parentheses)         # Output: 20\n"
      ],
      "metadata": {
        "id": "YLT4AEF29_ig"
      }
    },
    {
      "cell_type": "code",
      "source": [
        "x = 5\n",
        "y = 9\n",
        "z = 6"
      ],
      "metadata": {
        "id": "N6szouKn_OMY"
      },
      "execution_count": null,
      "outputs": []
    },
    {
      "cell_type": "code",
      "source": [
        "print(x>5)"
      ],
      "metadata": {
        "colab": {
          "base_uri": "https://localhost:8080/"
        },
        "id": "L7XNOK5L_fZD",
        "outputId": "57c917f4-5b87-46e2-9139-89068e70cb55"
      },
      "execution_count": null,
      "outputs": [
        {
          "output_type": "stream",
          "name": "stdout",
          "text": [
            "False\n"
          ]
        }
      ]
    },
    {
      "cell_type": "code",
      "source": [
        "x<5"
      ],
      "metadata": {
        "colab": {
          "base_uri": "https://localhost:8080/"
        },
        "id": "4mpBIsPW_nwu",
        "outputId": "7e174f4d-9c31-42b0-9aec-c5d015b565fc"
      },
      "execution_count": null,
      "outputs": [
        {
          "output_type": "execute_result",
          "data": {
            "text/plain": [
              "False"
            ]
          },
          "metadata": {},
          "execution_count": 21
        }
      ]
    },
    {
      "cell_type": "code",
      "source": [
        "x==5"
      ],
      "metadata": {
        "colab": {
          "base_uri": "https://localhost:8080/"
        },
        "id": "q_U0VURu_u6x",
        "outputId": "b7c52632-9c9c-4379-d6a2-20dcce5c7612"
      },
      "execution_count": null,
      "outputs": [
        {
          "output_type": "execute_result",
          "data": {
            "text/plain": [
              "True"
            ]
          },
          "metadata": {},
          "execution_count": 22
        }
      ]
    },
    {
      "cell_type": "code",
      "source": [
        "x<=5"
      ],
      "metadata": {
        "colab": {
          "base_uri": "https://localhost:8080/"
        },
        "id": "yQyYvtfc_w1N",
        "outputId": "e0d1c073-4e61-479b-cc17-a012f0cb11ab"
      },
      "execution_count": null,
      "outputs": [
        {
          "output_type": "execute_result",
          "data": {
            "text/plain": [
              "True"
            ]
          },
          "metadata": {},
          "execution_count": 23
        }
      ]
    },
    {
      "cell_type": "code",
      "source": [
        "x>=(y-4)"
      ],
      "metadata": {
        "colab": {
          "base_uri": "https://localhost:8080/"
        },
        "id": "vhiELMGB_0U-",
        "outputId": "b997c43a-7f8e-4d2c-e415-806445a23356"
      },
      "execution_count": null,
      "outputs": [
        {
          "output_type": "execute_result",
          "data": {
            "text/plain": [
              "True"
            ]
          },
          "metadata": {},
          "execution_count": 24
        }
      ]
    },
    {
      "cell_type": "code",
      "source": [
        "(x>y) and (y< (x-5+10))"
      ],
      "metadata": {
        "colab": {
          "base_uri": "https://localhost:8080/"
        },
        "id": "72OiW4XF_7ti",
        "outputId": "f5c23337-bfa3-4521-ab58-abbda53119ce"
      },
      "execution_count": null,
      "outputs": [
        {
          "output_type": "execute_result",
          "data": {
            "text/plain": [
              "False"
            ]
          },
          "metadata": {},
          "execution_count": 25
        }
      ]
    },
    {
      "cell_type": "code",
      "source": [
        "(x+1)%2==0"
      ],
      "metadata": {
        "colab": {
          "base_uri": "https://localhost:8080/"
        },
        "id": "cuJbxWjWAOQU",
        "outputId": "0e635109-922f-4045-cbde-1cec4e889448"
      },
      "execution_count": null,
      "outputs": [
        {
          "output_type": "execute_result",
          "data": {
            "text/plain": [
              "True"
            ]
          },
          "metadata": {},
          "execution_count": 26
        }
      ]
    },
    {
      "cell_type": "code",
      "source": [
        "x = float(input(\"enter the value of x\"))\n",
        "print(x % 2 == 0)"
      ],
      "metadata": {
        "colab": {
          "base_uri": "https://localhost:8080/"
        },
        "id": "P2wWQxQIAbdj",
        "outputId": "90d45cce-1519-41fd-b0df-858cfad9bae8"
      },
      "execution_count": null,
      "outputs": [
        {
          "output_type": "stream",
          "name": "stdout",
          "text": [
            "enter the value of x10.00\n",
            "True\n"
          ]
        }
      ]
    }
  ]
}