{
  "nbformat": 4,
  "nbformat_minor": 0,
  "metadata": {
    "colab": {
      "provenance": [],
      "authorship_tag": "ABX9TyOx+gqnc7rD/wvpy6qIlqEI",
      "include_colab_link": true
    },
    "kernelspec": {
      "name": "python3",
      "display_name": "Python 3"
    },
    "language_info": {
      "name": "python"
    }
  },
  "cells": [
    {
      "cell_type": "markdown",
      "metadata": {
        "id": "view-in-github",
        "colab_type": "text"
      },
      "source": [
        "<a href=\"https://colab.research.google.com/github/turna1/Basics-of-Python-Programming/blob/main/Python_collections.ipynb\" target=\"_parent\"><img src=\"https://colab.research.google.com/assets/colab-badge.svg\" alt=\"Open In Colab\"/></a>"
      ]
    },
    {
      "cell_type": "markdown",
      "source": [
        "# Python nested list and  collections\n",
        "By Dr. Rahatara Ferdousi"
      ],
      "metadata": {
        "id": "tIzNjnCh3TBN"
      }
    },
    {
      "cell_type": "markdown",
      "source": [
        "## Nested Lists\n",
        "A nested list (or list of lists) is a list where some or all of its elements are themselves lists. This structure is often used to represent two-dimensional data like matrices, tables, or grids.\n",
        "\n",
        "Structure and Definition\n",
        "You define a nested list by simply including lists as elements within an outer list:\n",
        "\n",
        "In this example:\n",
        "```python\n",
        "# A simple 3x3 matrix (3 rows, 3 columns)\n",
        "matrix = [\n",
        "    [1, 2, 3],\n",
        "    [4, 5, 6],\n",
        "    [7, 8, 9]\n",
        "]\n",
        "```\n",
        "The outer list has 3 elements.\n",
        "\n",
        "Each of those 3 elements is an inner list containing 3 integers.\n"
      ],
      "metadata": {
        "id": "fB_wl6rN5RdC"
      }
    },
    {
      "cell_type": "code",
      "source": [
        "my_list = [[1, 2, 3], [4, 5, 6], [7, 8, 9]]\n",
        "print(my_list)"
      ],
      "metadata": {
        "colab": {
          "base_uri": "https://localhost:8080/"
        },
        "id": "LHnCkkHegUjs",
        "outputId": "6a254c50-fec9-4f92-fd1f-d997242e4937"
      },
      "execution_count": null,
      "outputs": [
        {
          "output_type": "stream",
          "name": "stdout",
          "text": [
            "[[1, 2, 3], [4, 5, 6], [7, 8, 9]]\n"
          ]
        }
      ]
    },
    {
      "cell_type": "markdown",
      "source": [
        "Accessing Elements\n",
        "Accessing elements in a nested list requires two indices:\n",
        "\n",
        "The first index specifies the inner list (row).\n",
        "\n",
        "The second index specifies the element within that inner list (column).\n",
        "\n",
        "The general syntax is nested_list[row_index][column_index].\n",
        "\n"
      ],
      "metadata": {
        "id": "TP3L7Tx86vtY"
      }
    },
    {
      "cell_type": "markdown",
      "source": [
        "**Iterating with Nested Loops**\n",
        "The most common way to process all elements in a nested list is by using nested loops (as discussed previously):\n",
        "```python\n",
        "for row in matrix:  # 'row' is an inner list: [1, 2, 3], then [4, 5, 6], etc.\n",
        "    for element in row: # 'element' is a single integer: 1, 2, 3, then 4, 5, 6, etc.\n",
        "        print(element, end=\" \")\n",
        "    print() # Moves to a new line after each row is printed\n",
        "  ```"
      ],
      "metadata": {
        "id": "UMYnLeLb7E7y"
      }
    },
    {
      "cell_type": "code",
      "source": [],
      "metadata": {
        "id": "SspzWiD4Kc8T"
      },
      "execution_count": null,
      "outputs": []
    },
    {
      "cell_type": "markdown",
      "source": [
        "# The Island Treasure Map Problem 🗺️\n",
        "\n",
        "Imagine you are a pirate trying to find buried treasure on a small island.  \n",
        "The map is a **4×4 grid**, represented by a **nested list**. Most cells are just dirt (`'~'`), but there are four hidden objects:\n",
        "\n",
        "- **Treasure Chest** (`'X'`)  \n",
        "- **Key** (`'K'`)  \n",
        "- **Two Traps** (`'T'`)  \n",
        "\n",
        "---\n",
        "\n",
        "### The Challenge:\n",
        "1. **Locate the Key (`'K'`)** → Find its position in the grid.  \n",
        "2. **Locate the Treasure Chest (`'X'`)** → Find its position.  \n",
        "3. **Disable the Traps** → Replace both `'T'` symbols with dirt (`'~'`).  \n",
        "\n",
        "```python\n",
        "treasure_map = [\n",
        "    ['~', 'T', '~', 'X'],\n",
        "    ['~', '~', '~', '~'],\n",
        "    ['K', '~', '~', 'T'],\n",
        "    ['~', '~', '~', '~']\n",
        "]\n",
        "```\n",
        "\n",
        "\n"
      ],
      "metadata": {
        "id": "bV3lpU9T8BWE"
      }
    },
    {
      "cell_type": "code",
      "source": [
        "# The island is a 4x4 grid (nested list)\n",
        "treasure_map = [\n",
        "    ['~', 'T', '~', 'X'],\n",
        "    ['~', '~', '~', '~'],\n",
        "    ['K', '~', '~', 'T'],\n",
        "    ['~', '~', '~', '~']\n",
        "]\n",
        "\n",
        "# Let's print the map row by row\n",
        "for row in treasure_map:\n",
        "    print(row)\n"
      ],
      "metadata": {
        "colab": {
          "base_uri": "https://localhost:8080/"
        },
        "id": "Kkb7xdok8AkG",
        "outputId": "d16196c5-2bc3-4ea0-dbf7-007eb57ffc68"
      },
      "execution_count": null,
      "outputs": [
        {
          "output_type": "stream",
          "name": "stdout",
          "text": [
            "['~', 'T', '~', 'X']\n",
            "['~', '~', '~', '~']\n",
            "['K', '~', '~', 'T']\n",
            "['~', '~', '~', '~']\n"
          ]
        }
      ]
    },
    {
      "cell_type": "markdown",
      "source": [
        "A nested list is like a table. Use map[row][col] to locate items.\n",
        "For example, row 2, col 0 has the Key ('K').\n",
        "```python\n",
        "       0     1     2     3\n",
        "    +-----+-----+-----+-----+\n",
        " 0  |  ~  |  T  |  ~  |  X  |\n",
        "    +-----+-----+-----+-----+\n",
        " 1  |  ~  |  ~  |  ~  |  ~  |\n",
        "    +-----+-----+-----+-----+\n",
        " 2  |  K  |  ~  |  ~  |  T  |\n",
        "    +-----+-----+-----+-----+\n",
        " 3  |  ~  |  ~  |  ~  |  ~  |\n",
        "    +-----+-----+-----+-----+\n",
        "```"
      ],
      "metadata": {
        "id": "bHMlW-xk_XqP"
      }
    },
    {
      "cell_type": "code",
      "source": [
        "# Locate the 'K' in the map\n",
        "for r in range(len(treasure_map)):\n",
        "    for c in range(len(treasure_map[r])):\n",
        "        if treasure_map[r][c] == 'K':\n",
        "            print(\"Key found at:\", (r, c))\n"
      ],
      "metadata": {
        "colab": {
          "base_uri": "https://localhost:8080/"
        },
        "id": "pLDJxbeK_SGy",
        "outputId": "ea8c561f-6040-4169-b462-e76a98367661"
      },
      "execution_count": null,
      "outputs": [
        {
          "output_type": "stream",
          "name": "stdout",
          "text": [
            "Key found at: (2, 0)\n"
          ]
        }
      ]
    },
    {
      "cell_type": "markdown",
      "source": [
        "A trap is dangerous on our map. We need to replace 'T' with '~'.\n",
        "This modifies the map in-place (mutating the nested list)"
      ],
      "metadata": {
        "id": "7jtIlJ4-ACYa"
      }
    },
    {
      "cell_type": "code",
      "source": [
        "def disable_traps(treasure_map):\n",
        "    \"\"\"Replace all traps 'T' with dirt '~' directly in the map.\"\"\"\n",
        "    for r in range(len(treasure_map)):\n",
        "        for c in range(len(treasure_map[r])):\n",
        "            if treasure_map[r][c] == 'T':\n",
        "                treasure_map[r][c] = '~'\n",
        "\n",
        "# Make a copy so original map is safe\n",
        "import copy\n",
        "map_copy = copy.deepcopy(treasure_map)\n",
        "\n",
        "print(\"Before disabling traps:\")\n",
        "for row in map_copy:\n",
        "    print(row)\n",
        "\n",
        "disable_traps(map_copy)\n",
        "\n",
        "print(\"\\nAfter disabling traps:\")\n",
        "for row in map_copy:\n",
        "    print(row)\n"
      ],
      "metadata": {
        "colab": {
          "base_uri": "https://localhost:8080/"
        },
        "id": "kpX3iMVq8hHn",
        "outputId": "6c305e17-eac7-4e7d-e204-60d7a690953f"
      },
      "execution_count": null,
      "outputs": [
        {
          "output_type": "stream",
          "name": "stdout",
          "text": [
            "Before disabling traps:\n",
            "['~', 'T', '~', 'X']\n",
            "['~', '~', '~', '~']\n",
            "['K', '~', '~', 'T']\n",
            "['~', '~', '~', '~']\n",
            "\n",
            "After disabling traps:\n",
            "['~', '~', '~', 'X']\n",
            "['~', '~', '~', '~']\n",
            "['K', '~', '~', '~']\n",
            "['~', '~', '~', '~']\n"
          ]
        }
      ]
    },
    {
      "cell_type": "markdown",
      "source": [
        "# 2. Tuples\n",
        "When we store positions like (2, 0), we use a tuple (immutable, fixed).\n",
        "Tuples are useful because positions should not accidentally change."
      ],
      "metadata": {
        "id": "FOTm5RXF-5l9"
      }
    },
    {
      "cell_type": "code",
      "source": [
        "# Store locations as tuples\n",
        "key_pos = (2, 0)\n",
        "treasure_pos = (0, 3)\n",
        "\n",
        "print(\"Key is at:\", key_pos)\n",
        "print(\"Treasure is at:\", treasure_pos)\n"
      ],
      "metadata": {
        "id": "e_WlP2yy_FUY"
      },
      "execution_count": null,
      "outputs": []
    },
    {
      "cell_type": "markdown",
      "source": [
        "# 3. Dictionary\n",
        "A dictionary can map object names (\"key\", \"treasure\") to their positions.\n",
        "This lets us look up locations by name.\n",
        "Here's the syntax for representing a Python Dictionary using Markdown, formatted in a clear and readable way.\n",
        "\n",
        "**Python Dictionary Syntax in Markdown**\n",
        "A dictionary in Python is a collection of data stored as key-value pairs. It's defined by curly braces {}.\n",
        "\n",
        "```python\n",
        "my_dictionary = {\n",
        "    \"key_1\": value_1,\n",
        "    \"key_2\": value_2,\n",
        "    \"key_3\": value_3\n",
        "}\n",
        "```\n",
        "```python\n",
        "+-----------------+------------------------------------------+----------------------------------------------------------------+\n",
        "|    Component    |            Syntax Example                |                          Description                           |\n",
        "+-----------------+------------------------------------------+----------------------------------------------------------------+\n",
        "| Start/End       | { }                                      | The entire dictionary structure must be enclosed in curly braces.|\n",
        "|-----------------+------------------------------------------+----------------------------------------------------------------|\n",
        "| Key             | \"name\", 101, (1, 2)                      | An item used to retrieve data. Keys must be unique and immutable.|\n",
        "|-----------------+------------------------------------------+----------------------------------------------------------------|\n",
        "| Value           | \"Alice\", [1, 2, 3], True                 | The data associated with a key. Values can be any data type.     |\n",
        "|-----------------+------------------------------------------+----------------------------------------------------------------|\n",
        "| Colon           | :                                        | Separates a Key from its associated Value.                       |\n",
        "|-----------------+------------------------------------------+----------------------------------------------------------------|\n",
        "| Comma           | ,                                        | Separates individual key-value pairs.                          |\n",
        "|-----------------+------------------------------------------+----------------------------------------------------------------|\n",
        "| Assignment      | my_dict = ...                            | The variable name used to hold the dictionary.                   |\n",
        "+-----------------+------------------------------------------+----------------------------------------------------------------+"
      ],
      "metadata": {
        "id": "Rb1k4PEwBN5A"
      }
    },
    {
      "cell_type": "code",
      "source": [
        "# Store all important positions in a dictionary\n",
        "objects = {\n",
        "    \"Key\": (2, 0),\n",
        "    \"Treasure\": (0, 3),\n",
        "    \"Traps\": [(0, 1), (2, 3)]\n",
        "}\n",
        "\n",
        "print(\"Treasure is at:\", objects[\"Treasure\"])\n"
      ],
      "metadata": {
        "colab": {
          "base_uri": "https://localhost:8080/"
        },
        "id": "IiGMIdriBkoH",
        "outputId": "34339845-270f-4be0-8d17-5e345b3e85be"
      },
      "execution_count": null,
      "outputs": [
        {
          "output_type": "stream",
          "name": "stdout",
          "text": [
            "Treasure is at: (0, 3)\n"
          ]
        }
      ]
    },
    {
      "cell_type": "markdown",
      "source": [
        "## Immutable vs Mutable (Changeable)\n",
        "\n",
        "- **Immutable**: `int`, `float`, `bool`, `str`, `tuple`  \n",
        "  - Cannot be changed once created  \n",
        "  - Changing or *“rebinding”* an immutable creates a **new object**  \n",
        "\n",
        "- **Mutable**: `list`, `dict`, `set`, user-defined mutables  \n",
        "  - Mutating a mutable edits **in place**  \n",
        "  - Changes happen inside the **same object**  \n"
      ],
      "metadata": {
        "id": "m5a7HLahEMnH"
      }
    },
    {
      "cell_type": "code",
      "source": [
        "# Integers are immutable\n",
        "x = 10\n",
        "y = x\n",
        "y = y + 5  # creates a NEW int object\n",
        "print(\"x:\", x)  # still 10\n",
        "print(\"y:\", y)  # 15\n",
        "#Changing y doesn’t affect x.\n"
      ],
      "metadata": {
        "colab": {
          "base_uri": "https://localhost:8080/"
        },
        "id": "mR9fqOKqGJXT",
        "outputId": "dfb79194-4c5c-48bd-993c-b1442c4c09c0"
      },
      "execution_count": null,
      "outputs": [
        {
          "output_type": "stream",
          "name": "stdout",
          "text": [
            "x: 10\n",
            "y: 15\n"
          ]
        }
      ]
    },
    {
      "cell_type": "code",
      "source": [
        "s1 = \"hello\"\n",
        "s2 = s1\n",
        "s2 = s2.upper()  # creates a NEW string\n",
        "print(\"s1:\", s1)  # \"hello\"\n",
        "print(\"s2:\", s2)  # \"HELLO\"\n",
        "#s1 is untouched when s2 is modified."
      ],
      "metadata": {
        "colab": {
          "base_uri": "https://localhost:8080/"
        },
        "id": "aMeMCzYpHQZm",
        "outputId": "0dc19b80-280d-4b7a-d649-7414de829709"
      },
      "execution_count": null,
      "outputs": [
        {
          "output_type": "stream",
          "name": "stdout",
          "text": [
            "s1: hello\n",
            "s2: HELLO\n"
          ]
        }
      ]
    },
    {
      "cell_type": "code",
      "source": [
        "# Lists are mutable\n",
        "a = [1, 2, 3]\n",
        "b = a\n",
        "b.append(4)   # modifies the same list\n",
        "print(\"a:\", a)  # [1, 2, 3, 4]\n",
        "print(\"b:\", b)  # [1, 2, 3, 4]\n",
        "#Changing b also changes a, because both point to the same list object.\n"
      ],
      "metadata": {
        "colab": {
          "base_uri": "https://localhost:8080/"
        },
        "id": "R6JeA8QGGm7a",
        "outputId": "c2155043-1f73-4ec2-cbac-7b89cc5ad68d"
      },
      "execution_count": null,
      "outputs": [
        {
          "output_type": "stream",
          "name": "stdout",
          "text": [
            "a: [1, 2, 3, 4]\n",
            "b: [1, 2, 3, 4]\n"
          ]
        }
      ]
    },
    {
      "cell_type": "code",
      "source": [
        "d1 = {\"a\": 1}\n",
        "d2 = d1\n",
        "d2[\"b\"] = 2  # modifies the same dict\n",
        "print(\"d1:\", d1)  # {'a': 1, 'b': 2}\n",
        "print(\"d2:\", d2)  # {'a': 1, 'b': 2}\n"
      ],
      "metadata": {
        "colab": {
          "base_uri": "https://localhost:8080/"
        },
        "id": "By_M6-TwHisJ",
        "outputId": "5130a82c-e319-453a-e5b7-87d4ebc349a9"
      },
      "execution_count": null,
      "outputs": [
        {
          "output_type": "stream",
          "name": "stdout",
          "text": [
            "d1: {'a': 1, 'b': 2}\n",
            "d2: {'a': 1, 'b': 2}\n"
          ]
        }
      ]
    },
    {
      "cell_type": "markdown",
      "source": [
        "## Sets\n",
        "\n",
        "- A **set** is an **unordered collection** with **no duplicate elements**.  \n",
        "- Useful for:\n",
        "  - Membership testing (`in` / `not in`)\n",
        "  - Eliminating duplicates\n",
        "  - Performing **mathematical operations** like:\n",
        "    - Union (`|`)\n",
        "    - Intersection (`&`)\n",
        "    - Difference (`-`)\n",
        "    - Symmetric Difference (`^`)\n",
        "\n",
        "### Key Properties:\n",
        "- Defined with `{}` → e.g., `my_set = {1, 2, 3}`\n",
        "- Cannot contain **mutable elements** (like lists or dicts).\n",
        "- Iteration order is not guaranteed.\n"
      ],
      "metadata": {
        "id": "Eec75AZzLb_P"
      }
    },
    {
      "cell_type": "code",
      "source": [
        "# Define sets\n",
        "pirate_items = {\"sword\", \"map\", \"compass\", \"map\"}   # duplicate 'map' will be removed\n",
        "found_items = {\"map\", \"key\", \"compass\"}\n",
        "\n",
        "print(\"Pirate items:\", pirate_items)\n",
        "print(\"Found items:\", found_items)\n",
        "\n",
        "\n"
      ],
      "metadata": {
        "colab": {
          "base_uri": "https://localhost:8080/"
        },
        "id": "Hz0Lrc5tLeHf",
        "outputId": "1058e4fe-718c-4e2c-b4f0-59ab75afb850"
      },
      "execution_count": null,
      "outputs": [
        {
          "output_type": "stream",
          "name": "stdout",
          "text": [
            "Pirate items: {'map', 'sword', 'compass'}\n",
            "Found items: {'map', 'key', 'compass'}\n"
          ]
        }
      ]
    },
    {
      "cell_type": "code",
      "source": [
        "# Membership test\n",
        "print(\"Is 'key' in pirate_items?\", \"key\" in pirate_items)\n",
        "\n"
      ],
      "metadata": {
        "colab": {
          "base_uri": "https://localhost:8080/"
        },
        "id": "cB4l4_ELLjk0",
        "outputId": "9b36395c-3f88-42e4-d417-5ec1eed852de"
      },
      "execution_count": null,
      "outputs": [
        {
          "output_type": "stream",
          "name": "stdout",
          "text": [
            "Is 'key' in pirate_items? False\n"
          ]
        }
      ]
    },
    {
      "cell_type": "code",
      "source": [
        "# Union: all unique items\n",
        "print(\"Union:\", pirate_items | found_items)\n",
        "\n"
      ],
      "metadata": {
        "colab": {
          "base_uri": "https://localhost:8080/"
        },
        "id": "q4EMoMjiLmQ4",
        "outputId": "4c166595-638c-4833-da82-2f1fd151e20b"
      },
      "execution_count": null,
      "outputs": [
        {
          "output_type": "stream",
          "name": "stdout",
          "text": [
            "Union: {'key', 'map', 'sword', 'compass'}\n"
          ]
        }
      ]
    },
    {
      "cell_type": "code",
      "source": [
        "# Intersection: common items\n",
        "print(\"Intersection:\", pirate_items & found_items)\n",
        "\n"
      ],
      "metadata": {
        "colab": {
          "base_uri": "https://localhost:8080/"
        },
        "id": "Nr0KGWdwLoCX",
        "outputId": "8bc01b31-535d-49a6-f5c0-795574eecbbd"
      },
      "execution_count": null,
      "outputs": [
        {
          "output_type": "stream",
          "name": "stdout",
          "text": [
            "Intersection: {'map', 'compass'}\n"
          ]
        }
      ]
    },
    {
      "cell_type": "code",
      "source": [
        "# Difference: what pirate has but not found\n",
        "print(\"Difference:\", pirate_items - found_items)\n",
        "\n"
      ],
      "metadata": {
        "colab": {
          "base_uri": "https://localhost:8080/"
        },
        "id": "8DvJEwugLphW",
        "outputId": "52b2997a-937e-4972-a0c2-02a956905d69"
      },
      "execution_count": null,
      "outputs": [
        {
          "output_type": "stream",
          "name": "stdout",
          "text": [
            "Difference: {'sword'}\n"
          ]
        }
      ]
    },
    {
      "cell_type": "code",
      "source": [
        "# Symmetric Difference: items in one set but not both\n",
        "print(\"Symmetric Difference:\", pirate_items ^ found_items)"
      ],
      "metadata": {
        "colab": {
          "base_uri": "https://localhost:8080/"
        },
        "id": "k9-NL_NLLrFa",
        "outputId": "68cc155a-0d75-4bc7-e4b8-6cd971e56f7a"
      },
      "execution_count": null,
      "outputs": [
        {
          "output_type": "stream",
          "name": "stdout",
          "text": [
            "Symmetric Difference: {'sword', 'key'}\n"
          ]
        }
      ]
    },
    {
      "cell_type": "markdown",
      "source": [
        "## Python Data & Memory Model\n",
        "\n",
        "In Python, **names (variables) don’t store objects directly**.  \n",
        "They store **references (pointers)** to objects in memory.\n",
        "\n",
        "- A **name (label)** → points to an **object (box of data)** in memory.\n",
        "- Multiple names can point to the **same object** (aliasing).\n",
        "\n",
        "---\n",
        "\n",
        "### Key Points\n",
        "\n",
        "1. **Assignment (`a = b`)**\n",
        "   - No copy of the object is made.\n",
        "   - Just creates another reference to the same memory location.\n",
        "\n",
        "2. **Mutable vs Immutable**\n",
        "   - **Immutable objects** (`int`, `str`, `tuple`):  \n",
        "     Rebinding creates a **new object** in memory.\n",
        "   - **Mutable objects** (`list`, `dict`, `set`):  \n",
        "     Edits happen **in place** at the same memory location.\n",
        "\n",
        "3. **Object Identity**\n",
        "   - `id(obj)` → memory identity of the object.\n",
        "   - `is` → checks if two names point to the **same object**.\n",
        "   - `==` → checks if two objects have the **same value**.\n",
        "\n",
        "---\n",
        "\n",
        "### Aliasing and Copying\n",
        "\n",
        "#### Aliasing\n",
        "- Two names refer to the **same object**.\n",
        "- Useful when you **want to share** one structure between multiple names.\n",
        "- Risky because edits from one name affect the other.\n",
        "\n",
        "```python\n",
        "a = [1, 2, 3]\n",
        "b = a        # alias\n",
        "b.append(4)\n",
        "print(a)     # [1, 2, 3, 4]  (changed!)\n"
      ],
      "metadata": {
        "id": "baCGCnbpNCEP"
      }
    },
    {
      "cell_type": "markdown",
      "source": [
        "Shallow Copy\n",
        "\n",
        "Makes a new outer container, but inner elements are still shared references.\n",
        "\n",
        "Importance: Works fine for 1D lists, but causes hidden mutations in nested lists.\n",
        "\n",
        "\n"
      ],
      "metadata": {
        "id": "i-xf6zkZNU5D"
      }
    },
    {
      "cell_type": "code",
      "source": [
        "import copy\n",
        "a = [[1, 2], [3, 4]]\n",
        "b = a[:]   # shallow copy\n",
        "b[0][0] = 99\n",
        "print(a)   # [[99, 2], [3, 4]] → Inner lists still shared"
      ],
      "metadata": {
        "colab": {
          "base_uri": "https://localhost:8080/"
        },
        "id": "DOqGJZH1NBWH",
        "outputId": "52330876-8fd4-45b3-ec5a-adb66e525181"
      },
      "execution_count": null,
      "outputs": [
        {
          "output_type": "stream",
          "name": "stdout",
          "text": [
            "[[99, 2], [3, 4]]\n"
          ]
        }
      ]
    },
    {
      "cell_type": "markdown",
      "source": [
        "Deep Copy\n",
        "\n",
        "Makes a fully independent copy of an object and all its nested elements.\n",
        "\n",
        "Importance: Safest way when working with complex/nested structures (like matrices, graphs, JSON-like data).\n",
        "\n",
        "But expensive for large data → should be used carefully."
      ],
      "metadata": {
        "id": "2WEEsGaSNqk4"
      }
    },
    {
      "cell_type": "code",
      "source": [
        "import copy\n",
        "a = [[1, 2], [3, 4]]\n",
        "b = copy.deepcopy(a)\n",
        "b[0][0] = 99\n",
        "print(a)  # [[1, 2], [3, 4]] → Original untouched\n"
      ],
      "metadata": {
        "colab": {
          "base_uri": "https://localhost:8080/"
        },
        "id": "5flI1hT_Np9d",
        "outputId": "deca9e3e-ab79-4483-d07e-8cdc30cf7b37"
      },
      "execution_count": null,
      "outputs": [
        {
          "output_type": "stream",
          "name": "stdout",
          "text": [
            "[[1, 2], [3, 4]]\n"
          ]
        }
      ]
    },
    {
      "cell_type": "markdown",
      "source": [
        "## Functions and the Python Memory Model\n",
        "\n",
        "Python uses **call-by-object-reference** (also called pass-by-assignment):\n",
        "\n",
        "- When you pass a variable into a function:\n",
        "  - A **new local name** is created inside the function.\n",
        "  - It points to the **same object** as the argument outside.\n",
        "\n",
        "### Implications:\n",
        "1. With **Immutable types** (int, str, tuple):\n",
        "   - Reassignment inside the function does **not** affect the original.\n",
        "   - A new object is created locally.\n",
        "\n",
        "2. With **Mutable types** (list, dict, set):\n",
        "   - In-place changes inside the function **affect the original object**.\n",
        "\n",
        "3. **Aliasing & Copying**:\n",
        "   - Passing a mutable object is like passing an alias.\n",
        "   - To avoid unintended changes:\n",
        "     - Use a **shallow copy** for simple objects.\n",
        "     - Use a **deep copy** for nested objects.\n"
      ],
      "metadata": {
        "id": "YaIBkXZMOpia"
      }
    },
    {
      "cell_type": "code",
      "source": [
        "# Immutable example\n",
        "def add_ten(x):\n",
        "    x = x + 10\n",
        "    print(\"Inside function:\", x)\n",
        "\n",
        "a = 5\n",
        "add_ten(a)\n",
        "print(\"Outside function:\", a)   # unchanged\n",
        "\n",
        "\n"
      ],
      "metadata": {
        "id": "vGIbpP7qOdb2"
      },
      "execution_count": null,
      "outputs": []
    },
    {
      "cell_type": "code",
      "source": [
        "# Mutable example (aliasing)\n",
        "def add_item(my_list):\n",
        "    my_list.append(\"treasure\")\n",
        "    print(\"Inside function:\", my_list)\n",
        "\n",
        "items = [\"map\", \"key\"]\n",
        "add_item(items)\n",
        "print(\"Outside function:\", items)   # changed!\n",
        "\n",
        "\n"
      ],
      "metadata": {
        "id": "lJV66DsLO527"
      },
      "execution_count": null,
      "outputs": []
    },
    {
      "cell_type": "code",
      "source": [
        "# Avoiding mutation with copy\n",
        "import copy\n",
        "def safe_add_item(my_list):\n",
        "    local_copy = copy.deepcopy(my_list)\n",
        "    local_copy.append(\"compass\")\n",
        "    return local_copy\n",
        "\n",
        "inventory = [\"sword\", \"shield\"]\n",
        "new_inventory = safe_add_item(inventory)\n",
        "\n",
        "print(\"Original:\", inventory)       # unchanged\n",
        "print(\"Returned:\", new_inventory)   # new item added\n"
      ],
      "metadata": {
        "id": "Pun1y4ROO8MV"
      },
      "execution_count": null,
      "outputs": []
    }
  ]
}