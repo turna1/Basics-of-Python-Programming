{
  "nbformat": 4,
  "nbformat_minor": 0,
  "metadata": {
    "colab": {
      "provenance": [],
      "authorship_tag": "ABX9TyO9m+vhXV0mkCktzcNd88Sg",
      "include_colab_link": true
    },
    "kernelspec": {
      "name": "python3",
      "display_name": "Python 3"
    },
    "language_info": {
      "name": "python"
    }
  },
  "cells": [
    {
      "cell_type": "markdown",
      "metadata": {
        "id": "view-in-github",
        "colab_type": "text"
      },
      "source": [
        "<a href=\"https://colab.research.google.com/github/turna1/Basics-of-Python-Programming/blob/main/python_function.ipynb\" target=\"_parent\"><img src=\"https://colab.research.google.com/assets/colab-badge.svg\" alt=\"Open In Colab\"/></a>"
      ]
    },
    {
      "cell_type": "markdown",
      "source": [
        "# Functions in Python\n",
        "\n",
        "Welcome to today’s workshop!  \n",
        "We will learn **why Python functions are needed**, how to **define and call functions**, and how to apply them in a **real-world style example**: a robot campus coffee machine modeled as a Finite-State Machine (FSM).\n",
        "\n",
        "---\n",
        "\n",
        "## Why Do We Need Functions?\n",
        "\n",
        "Without functions, we end up writing the same code again and again.  \n",
        "Functions help us:\n",
        "- Reuse code easily  \n",
        "- Reduce errors and complexity  \n",
        "- Make programs more readable and maintainable:\n",
        "Let’s first see an example *without functions* and then *with functions*.\n",
        "\n",
        "You are building a software for a coffee shop. Whenever a customer buy a coffee, it should print Welcome CUSTOMER NAME! Enjoy your coffee! on a printed label.\n"
      ],
      "metadata": {
        "id": "X3xIg91IRzFx"
      }
    },
    {
      "cell_type": "code",
      "source": [
        "#without function\n",
        "print(\"Welcome, Alice!\")\n",
        "print(\"Enjoy your coffee!\")\n",
        "print(\"---\")\n",
        "print(\"Welcome, Bob!\")\n",
        "print(\"Enjoy your coffee!\")\n",
        "print(\"---\")\n",
        "print(\"Welcome, Charlie!\")\n",
        "print(\"Enjoy your coffee!\")\n",
        "\n"
      ],
      "metadata": {
        "colab": {
          "base_uri": "https://localhost:8080/"
        },
        "id": "qj_vHFzzR2HV",
        "outputId": "36c63fc6-ce06-43ff-e718-5962e818e176"
      },
      "execution_count": null,
      "outputs": [
        {
          "output_type": "stream",
          "name": "stdout",
          "text": [
            "Welcome, Alice!\n",
            "Enjoy your coffee!\n",
            "---\n",
            "Welcome, Bob!\n",
            "Enjoy your coffee!\n",
            "---\n",
            "Welcome, Charlie!\n",
            "Enjoy your coffee!\n"
          ]
        }
      ]
    },
    {
      "cell_type": "code",
      "source": [
        "# With function – reusable code\n",
        "def greet_customer(name):\n",
        "    print(f\"Welcome, {name}!\")\n",
        "    print(\"Enjoy your coffee!\")\n",
        "    print(\"---\")\n"
      ],
      "metadata": {
        "id": "-LnNvq-0SATM"
      },
      "execution_count": null,
      "outputs": []
    },
    {
      "cell_type": "code",
      "source": [
        "\n",
        "greet_customer(\"Alice\")\n",
        "greet_customer(\"Bob\")\n",
        "greet_customer(\"Charlie\")\n"
      ],
      "metadata": {
        "colab": {
          "base_uri": "https://localhost:8080/"
        },
        "id": "PxNy94CWmtVP",
        "outputId": "382eb800-3304-4988-c5ab-d8af70446bb6"
      },
      "execution_count": null,
      "outputs": [
        {
          "output_type": "stream",
          "name": "stdout",
          "text": [
            "Welcome, Alice!\n",
            "Enjoy your coffee!\n",
            "---\n",
            "Welcome, Bob!\n",
            "Enjoy your coffee!\n",
            "---\n",
            "Welcome, Charlie!\n",
            "Enjoy your coffee!\n",
            "---\n"
          ]
        }
      ]
    },
    {
      "cell_type": "markdown",
      "source": [
        "\n",
        "## Anatomy of a Python Function\n",
        "\n",
        "A function has:\n",
        "- **Name** – what the function does (`greet_customer`)  \n",
        "- **Parameters** – placeholders for input (`name`)  \n",
        "- **Arguments** – actual input values (`\"Alice\"`)  \n",
        "- **Body** – steps to execute  \n",
        "- **Return value** – optional output:contentReference[oaicite:2]{index=2}\n",
        "\n",
        "**Syntax:**\n",
        "```python\n",
        "def function_name(parameters):\n",
        "    # function body\n",
        "    return value\n"
      ],
      "metadata": {
        "id": "PmHyUjfmTZch"
      }
    },
    {
      "cell_type": "markdown",
      "source": [],
      "metadata": {
        "id": "EdN_Bpi7UpsG"
      }
    },
    {
      "cell_type": "markdown",
      "source": [
        "### Types of Parameters/Arguments:\n",
        "\n",
        "1. **Positional Arguments**  \n",
        "   - Matched by order.  \n",
        "   - Risk: wrong order → wrong result.  \n",
        "\n",
        "2. **Keyword Arguments**  \n",
        "   - Matched by name.  \n",
        "   - Order doesn’t matter.  \n",
        "\n",
        "3. **Default Parameters**  \n",
        "   - Provide default values if none are passed.  \n",
        "\n",
        "4. **Variable-Length Parameters**  \n",
        "   - `*args`: multiple positional arguments → tuple  \n",
        "   - `**kwargs`: multiple keyword arguments → dictionary  \n"
      ],
      "metadata": {
        "id": "iKD-_6GOUfJU"
      }
    },
    {
      "cell_type": "code",
      "source": [
        "def total_note(note_to_print, total_price, currency):\n",
        "    return (note_to_print, total_price, currency)\n",
        "\n",
        "\n"
      ],
      "metadata": {
        "id": "Af8ZoiRTUy84"
      },
      "execution_count": null,
      "outputs": []
    },
    {
      "cell_type": "code",
      "source": [
        "print(total_note(\"your total cost is:\", 5, \"USD\"))  # Correct\n"
      ],
      "metadata": {
        "colab": {
          "base_uri": "https://localhost:8080/"
        },
        "id": "dEqULtr9nVbo",
        "outputId": "26d7b4ef-1d57-4f2e-c763-5e561faaaa7a"
      },
      "execution_count": null,
      "outputs": [
        {
          "output_type": "stream",
          "name": "stdout",
          "text": [
            "('your total cost is:', 5, 'USD')\n"
          ]
        }
      ]
    },
    {
      "cell_type": "code",
      "source": [
        "print(total_note(5,\"your total cost is:\", \"EURO\")) # Different order changes meaning"
      ],
      "metadata": {
        "colab": {
          "base_uri": "https://localhost:8080/"
        },
        "id": "hf4S3JemnZzi",
        "outputId": "78d97642-2aa2-48a7-b542-16eaf89f0d34"
      },
      "execution_count": null,
      "outputs": [
        {
          "output_type": "stream",
          "name": "stdout",
          "text": [
            "(5, 'your total cost is:', 'EURO')\n"
          ]
        }
      ]
    },
    {
      "cell_type": "code",
      "source": [
        "def introduce(name, age):\n",
        "    print(f\"{name} is {age} years old.\")\n",
        "\n",
        "introduce(age=20, name=\"Alice\")\n"
      ],
      "metadata": {
        "colab": {
          "base_uri": "https://localhost:8080/"
        },
        "id": "VaC7pe5vWdKa",
        "outputId": "6d8d706e-3edb-4c78-97d8-0f919086e4ff"
      },
      "execution_count": null,
      "outputs": [
        {
          "output_type": "stream",
          "name": "stdout",
          "text": [
            "Alice is 20 years old.\n"
          ]
        }
      ]
    },
    {
      "cell_type": "markdown",
      "source": [
        "\n",
        "## Keyword Arguments\n",
        "\n",
        "- Passed by explicitly naming the parameters.  \n",
        "- **Order doesn’t matter** when calling.  \n",
        "\n",
        "### Common Issue:\n",
        "- If a library updates its function definition and **changes parameter names**, your keyword arguments may break.  \n",
        "- Example: `gradio` once renamed `lines` → `text`. Old code using `lines` started throwing errors.  \n"
      ],
      "metadata": {
        "id": "k_4LmEUdYMUz"
      }
    },
    {
      "cell_type": "code",
      "source": [
        "# Keyword arguments example\n",
        "def introduce(name, age, city):\n",
        "    print(f\"{name} is {age} years old and lives in {city}.\")\n"
      ],
      "metadata": {
        "id": "ReKIDA9BbXdp"
      },
      "execution_count": null,
      "outputs": []
    },
    {
      "cell_type": "code",
      "source": [
        "\n",
        "introduce(AGE=22, name=\"Alice\", city=\"Kingston\")\n",
        "\n"
      ],
      "metadata": {
        "colab": {
          "base_uri": "https://localhost:8080/",
          "height": 159
        },
        "id": "kMxV1LVgnqQB",
        "outputId": "d39c1f2f-d058-47ba-a43b-75fa799ec665"
      },
      "execution_count": null,
      "outputs": [
        {
          "output_type": "error",
          "ename": "TypeError",
          "evalue": "introduce() got an unexpected keyword argument 'AGE'",
          "traceback": [
            "\u001b[0;31m---------------------------------------------------------------------------\u001b[0m",
            "\u001b[0;31mTypeError\u001b[0m                                 Traceback (most recent call last)",
            "\u001b[0;32m/tmp/ipython-input-750184834.py\u001b[0m in \u001b[0;36m<cell line: 0>\u001b[0;34m()\u001b[0m\n\u001b[0;32m----> 1\u001b[0;31m \u001b[0mintroduce\u001b[0m\u001b[0;34m(\u001b[0m\u001b[0mAGE\u001b[0m\u001b[0;34m=\u001b[0m\u001b[0;36m22\u001b[0m\u001b[0;34m,\u001b[0m \u001b[0mname\u001b[0m\u001b[0;34m=\u001b[0m\u001b[0;34m\"Alice\"\u001b[0m\u001b[0;34m,\u001b[0m \u001b[0mcity\u001b[0m\u001b[0;34m=\u001b[0m\u001b[0;34m\"Kingston\"\u001b[0m\u001b[0;34m)\u001b[0m\u001b[0;34m\u001b[0m\u001b[0;34m\u001b[0m\u001b[0m\n\u001b[0m\u001b[1;32m      2\u001b[0m \u001b[0;34m\u001b[0m\u001b[0m\n",
            "\u001b[0;31mTypeError\u001b[0m: introduce() got an unexpected keyword argument 'AGE'"
          ]
        }
      ]
    },
    {
      "cell_type": "code",
      "source": [
        "introduce(city=\"Toronto\", name=\"Bob\", age=25)"
      ],
      "metadata": {
        "colab": {
          "base_uri": "https://localhost:8080/"
        },
        "id": "RTOA32Own1Nt",
        "outputId": "5a1156dd-7a1c-43e2-b26e-6086f67803e9"
      },
      "execution_count": null,
      "outputs": [
        {
          "output_type": "stream",
          "name": "stdout",
          "text": [
            "Bob is 25 years old and lives in Toronto.\n"
          ]
        }
      ]
    },
    {
      "cell_type": "markdown",
      "source": [
        "## Variable-Length Arguments\n",
        "\n",
        "Sometimes we don’t know how many arguments will be passed.  \n",
        "Python supports two special notations:  \n",
        "\n",
        "1. `*args` → collects multiple positional arguments (tuple).  \n",
        "2. `**kwargs` → collects multiple keyword arguments (dictionary).  \n"
      ],
      "metadata": {
        "id": "F9P7_yVZbYop"
      }
    },
    {
      "cell_type": "code",
      "source": [
        "def total_sum(*nums):\n",
        "    return sum(nums)\n",
        "\n",
        "print(total_sum(1,2,3,4))\n",
        "\n"
      ],
      "metadata": {
        "id": "QQLziBcTYJEF",
        "colab": {
          "base_uri": "https://localhost:8080/"
        },
        "outputId": "945db61f-53be-4ae7-b4ac-f367c5a7d3d5"
      },
      "execution_count": null,
      "outputs": [
        {
          "output_type": "stream",
          "name": "stdout",
          "text": [
            "10\n"
          ]
        }
      ]
    },
    {
      "cell_type": "code",
      "source": [
        "def show_info(**details):\n",
        "    return details\n",
        "\n",
        "print(show_info(name=\"Bob\", city=\"Kingston\"))\n"
      ],
      "metadata": {
        "id": "RPDkWbMBYWfd",
        "colab": {
          "base_uri": "https://localhost:8080/"
        },
        "outputId": "3ef4601e-b874-4c08-b789-0bb0ff5ffd9e"
      },
      "execution_count": null,
      "outputs": [
        {
          "output_type": "stream",
          "name": "stdout",
          "text": [
            "{'name': 'Bob', 'city': 'Kingston'}\n"
          ]
        }
      ]
    },
    {
      "cell_type": "markdown",
      "source": [
        "## Example: Default Parameters\n",
        "\n",
        "We can give functions default values.\n",
        "\n"
      ],
      "metadata": {
        "id": "RTAufLBTTqiG"
      }
    },
    {
      "cell_type": "code",
      "source": [
        "def greet(name=\"Guest\"):\n",
        "    print(f\"Hello, {name}!\")\n"
      ],
      "metadata": {
        "id": "ZnRv0qPOTz0K"
      },
      "execution_count": null,
      "outputs": []
    },
    {
      "cell_type": "code",
      "source": [
        "greet(\"Rahatara\")\n",
        "greet()   # Uses default\n"
      ],
      "metadata": {
        "colab": {
          "base_uri": "https://localhost:8080/"
        },
        "id": "LO4Fe8tsUND9",
        "outputId": "f2b2b367-a178-4481-aa7f-13b11818d58b"
      },
      "execution_count": null,
      "outputs": [
        {
          "output_type": "stream",
          "name": "stdout",
          "text": [
            "Hello, Rahatara!\n",
            "Hello, Guest!\n"
          ]
        }
      ]
    },
    {
      "cell_type": "markdown",
      "source": [
        "## Function without Parameters and Return Value\n",
        "\n",
        "- Some functions just **perform an action** (like printing).  \n",
        "- They don’t take any input or return any value.  \n"
      ],
      "metadata": {
        "id": "VJdovIRgcBBr"
      }
    },
    {
      "cell_type": "code",
      "source": [
        "def say_hello():\n",
        "    print(\"Hello, world!\")\n",
        "\n",
        "say_hello()\n"
      ],
      "metadata": {
        "id": "IbDAdgxYcCf-"
      },
      "execution_count": null,
      "outputs": []
    },
    {
      "cell_type": "markdown",
      "source": [
        "## Return Value as an Expression\n",
        "\n",
        "A function’s return value can be used **immediately** inside another expression.  \n",
        "You don’t always need to store it in a variable first.\n"
      ],
      "metadata": {
        "id": "dEr0R4kScegQ"
      }
    },
    {
      "cell_type": "code",
      "source": [
        "def square(n):\n",
        "    return n * n\n",
        "\n",
        "# Using the return value directly in an expression\n",
        "print(\"Square plus 10:\", square(4) + 10)   # 16 + 10 = 26\n",
        "print(\"Double the square:\", 2 * square(5)) # 2 * 25 = 50\n",
        "print(\"Compare squares:\", square(3) > square(2))  # 9 > 4 → True\n"
      ],
      "metadata": {
        "colab": {
          "base_uri": "https://localhost:8080/"
        },
        "id": "Mf6pyJ-qcdlG",
        "outputId": "bfd4b2a1-e1cd-4e6b-d196-e20f1fac5083"
      },
      "execution_count": null,
      "outputs": [
        {
          "output_type": "stream",
          "name": "stdout",
          "text": [
            "Square plus 10: 26\n",
            "Double the square: 50\n",
            "Compare squares: True\n"
          ]
        }
      ]
    },
    {
      "cell_type": "markdown",
      "source": [
        "# Function without Parameter or Body\n",
        "- Some functions just display and don’t take inputs.  \n",
        "- Empty functions must use `pass`.  \n"
      ],
      "metadata": {
        "id": "GR2792QTYjT4"
      }
    },
    {
      "cell_type": "code",
      "source": [
        "def say_hello():\n",
        "    print(\"Hello!\")\n",
        "\n",
        "say_hello()\n",
        "\n",
        "\n"
      ],
      "metadata": {
        "id": "gwONvIF4YunD"
      },
      "execution_count": null,
      "outputs": []
    },
    {
      "cell_type": "code",
      "source": [
        "def todo():\n",
        "    pass  # placeholder"
      ],
      "metadata": {
        "id": "s-LHlQtXY4ui"
      },
      "execution_count": null,
      "outputs": []
    },
    {
      "cell_type": "markdown",
      "source": [
        "# Variable Scope\n",
        "\n",
        "- **Local scope**: inside function only.  \n",
        "- **Global scope**: declared outside, accessible everywhere\n"
      ],
      "metadata": {
        "id": "Pfq8Gc3hY9Sn"
      }
    },
    {
      "cell_type": "code",
      "source": [
        "x = 10  # global\n",
        "\n",
        "def demo():\n",
        "    y = 5  # local\n",
        "    print(\"Inside:\", y)\n",
        "\n"
      ],
      "metadata": {
        "id": "GuoH8IemZFvj"
      },
      "execution_count": null,
      "outputs": []
    },
    {
      "cell_type": "code",
      "source": [
        "demo()"
      ],
      "metadata": {
        "colab": {
          "base_uri": "https://localhost:8080/"
        },
        "id": "F1lE1EfEpbA8",
        "outputId": "97bfbf0e-d900-43ff-b7d7-63d1e512b636"
      },
      "execution_count": null,
      "outputs": [
        {
          "output_type": "stream",
          "name": "stdout",
          "text": [
            "Inside: 5\n"
          ]
        }
      ]
    },
    {
      "cell_type": "code",
      "source": [
        "print(y)"
      ],
      "metadata": {
        "id": "xrXSjAQepmus",
        "outputId": "673a4847-32aa-441b-d533-6d902e6cefd9",
        "colab": {
          "base_uri": "https://localhost:8080/",
          "height": 141
        }
      },
      "execution_count": null,
      "outputs": [
        {
          "output_type": "error",
          "ename": "NameError",
          "evalue": "name 'y' is not defined",
          "traceback": [
            "\u001b[0;31m---------------------------------------------------------------------------\u001b[0m",
            "\u001b[0;31mNameError\u001b[0m                                 Traceback (most recent call last)",
            "\u001b[0;32m/tmp/ipython-input-1056546137.py\u001b[0m in \u001b[0;36m<cell line: 0>\u001b[0;34m()\u001b[0m\n\u001b[0;32m----> 1\u001b[0;31m \u001b[0mprint\u001b[0m\u001b[0;34m(\u001b[0m\u001b[0my\u001b[0m\u001b[0;34m)\u001b[0m\u001b[0;34m\u001b[0m\u001b[0;34m\u001b[0m\u001b[0m\n\u001b[0m",
            "\u001b[0;31mNameError\u001b[0m: name 'y' is not defined"
          ]
        }
      ]
    },
    {
      "cell_type": "markdown",
      "source": [
        "# Return Values\n",
        "\n",
        "A function can send back data with `return`.  \n",
        "You can:  \n",
        "- Store it  \n",
        "- Use it in expressions  \n",
        "- Pass it to another function:contentReference[oaicite:7]{index=7}\n",
        "\n"
      ],
      "metadata": {
        "id": "miVRxWJgZr3q"
      }
    },
    {
      "cell_type": "code",
      "source": [
        "def square(n):\n",
        "    return n * n\n",
        "\n",
        "result = square(6)\n",
        "print(result)\n",
        "print(square(6) + 10)\n"
      ],
      "metadata": {
        "colab": {
          "base_uri": "https://localhost:8080/"
        },
        "id": "0uAmj0HEUU38",
        "outputId": "269b8285-22ec-4886-8882-12c1f739ced5"
      },
      "execution_count": null,
      "outputs": [
        {
          "output_type": "stream",
          "name": "stdout",
          "text": [
            "36\n",
            "46\n"
          ]
        }
      ]
    },
    {
      "cell_type": "markdown",
      "source": [
        "**Built-in functions come with Python.**\n",
        "Built-in functions in Python are a set of predefined functions that are readily available for use without needing to import any modules. They provide fundamental functionalities for common tasks and operations.\n",
        "\n",
        "Examples:  \n",
        "- `print()`, `len()`, `max()`, `min()`, `sum()`"
      ],
      "metadata": {
        "id": "5uYHkRjBe8ow"
      }
    },
    {
      "cell_type": "markdown",
      "source": [
        "A **lambda function** is:  \n",
        "- Small, anonymous  \n",
        "- Written in one line  \n",
        "- Often used inside other functions\n"
      ],
      "metadata": {
        "id": "74XIfL1ifPav"
      }
    },
    {
      "cell_type": "code",
      "source": [
        "square = lambda x: x * x\n",
        "print(square(5))\n"
      ],
      "metadata": {
        "id": "YI4gILmRfWoI"
      },
      "execution_count": null,
      "outputs": []
    },
    {
      "cell_type": "code",
      "source": [
        "    numbers = [1, 2, 3, 4]\n",
        "    squared_numbers = list(map(lambda x: x**2, numbers)) #used inside map ()\n",
        "    print(squared_numbers)"
      ],
      "metadata": {
        "colab": {
          "base_uri": "https://localhost:8080/"
        },
        "id": "-7JRxcy6ftFs",
        "outputId": "bf2b228c-1bf4-4570-e733-2a2b4dc137c8"
      },
      "execution_count": null,
      "outputs": [
        {
          "output_type": "stream",
          "name": "stdout",
          "text": [
            "[1, 4, 9, 16]\n"
          ]
        }
      ]
    },
    {
      "cell_type": "markdown",
      "source": [
        "Recursion = function calling itself.  \n",
        "\n",
        "- **Base case** stops recursion.  \n",
        "- **Recursive case** breaks problem into smaller parts.  \n",
        "- Risk: infinite recursion if no base case"
      ],
      "metadata": {
        "id": "Fv-stTTof3xl"
      }
    },
    {
      "cell_type": "markdown",
      "source": [
        "# Recursive function in python\n",
        "\n",
        "A recursive function in Python is a function that calls itself during its execution. This technique is used to solve problems that can be broken down into smaller, similar subproblems.\n",
        "\n",
        "Key Components of a Recursive Function:\n",
        "* Base Case: This is the stopping condition that prevents the function from calling itself indefinitely. It defines the simplest instance of the problem that can be solved directly without further recursion.\n",
        "* Recursive Case: This is the part of the function where it calls itself with modified parameters, moving closer to the base case.\n",
        "Example: Factorial Calculation\n",
        "The factorial of a non-negative integer n (denoted as n!) is the product of all positive integers less than or equal to n. For example, 5! = 5 * 4 * 3 * 2 * 1 = 120.\n",
        "```python\n",
        "def factorial(n):\n",
        "    # Base case: Factorial of 0 or 1 is 1\n",
        "    if n == 0 or n == 1:\n",
        "        return 1\n",
        "    # Recursive case: n! = n * (n-1)!\n",
        "    else:\n",
        "        return n * factorial(n - 1)\n",
        "\n",
        "\n",
        "# Example usage\n",
        "print(factorial(5))  # Output: 120\n",
        "print(factorial(0))  # Output: 1\n",
        "```\n",
        "\n",
        "**How it Works:**\n",
        "When factorial(5) is called:\n",
        "* n is 5, not 0 or 1, so it goes to the else block.\n",
        "* It returns 5 * factorial(4).\n",
        "factorial(4) is called, which returns 4 * factorial(3).\n",
        "* This continues until factorial(1) is called, which returns 1 (base case).\n",
        "* Then, the results are multiplied back up the call stack: 5 * (4 * (3 * (2 * 1))) = 120.\n",
        "\n",
        "**Considerations:**\n",
        "* Stack Overflow: Excessive recursion can lead to a \"RecursionError: maximum recursion depth exceeded\" if the base case is not reached or the recursion depth is too large, as each function call consumes memory on the call stack.\n",
        "* Performance: While elegant, recursion can sometimes be less efficient than iterative solutions for certain problems due to the overhead of function calls.\n",
        "* Readability: For some problems, recursion can offer a more concise and readable solution that mirrors the mathematical definition of the problem."
      ],
      "metadata": {
        "id": "ncLoC17hgmYj"
      }
    },
    {
      "cell_type": "markdown",
      "source": [
        "5!= 5*4*3*2*1\n",
        "4!= 4*3*2*1\n",
        "5! = 5*4!"
      ],
      "metadata": {
        "id": "uXHUBhCpHa0U"
      }
    },
    {
      "cell_type": "markdown",
      "source": [
        "**What is the Call Stack?**\n",
        "\n",
        "When a function is called, Python keeps track of it in a stack structure (Last In, First Out).\n",
        "\n",
        "Think of it like a pile of plates 🍽️ — the last plate you put on top is the first one you take off.\n",
        "\n",
        "Every new function call is placed on top of the stack until it finishes."
      ],
      "metadata": {
        "id": "AT3j_noPlNu5"
      }
    },
    {
      "cell_type": "code",
      "source": [
        "def factorial(n):\n",
        "    # Base case: Factorial of 0 or 1 is 1\n",
        "    if n == 0 or n == 1:\n",
        "        return 1\n",
        "    # Recursive case: n! = n * (n-1)!\n",
        "    else:\n",
        "        return n * factorial(n - 1)\n",
        "\n",
        "\n"
      ],
      "metadata": {
        "id": "x9hw9hRykplz"
      },
      "execution_count": null,
      "outputs": []
    },
    {
      "cell_type": "code",
      "source": [
        "factorial(5)"
      ],
      "metadata": {
        "colab": {
          "base_uri": "https://localhost:8080/"
        },
        "id": "l7XOedcCkw8y",
        "outputId": "e7909907-28f4-4104-c9c0-5dcc344c9a8e"
      },
      "execution_count": null,
      "outputs": [
        {
          "output_type": "execute_result",
          "data": {
            "text/plain": [
              "120"
            ]
          },
          "metadata": {},
          "execution_count": 4
        }
      ]
    },
    {
      "cell_type": "markdown",
      "source": [
        "```python\n",
        "# example : factorial(5)\n",
        "CALLS (↓ Going Down)                   RETURNS (↑ Coming Back Up)\n",
        "----------------------------------------------------------------------------\n",
        "factorial(5) [recursive case]          factorial(5) = 5 * factorial(4) = 5 * 24 = 120\n",
        "  factorial(4) [recursive case]          factorial(4) = 4 * factorial(3) = 4 * 6 = 24\n",
        "    factorial(3) [recursive case]          factorial(3) = 3 * factorial(2) = 3 * 2 = 6\n",
        "      factorial(2) [recursive case]          factorial(2) = 2 * factorial(1) = 2 * 1 = 2\n",
        "        factorial(1) [BASE CASE]             factorial(1) = 1\n"
      ],
      "metadata": {
        "id": "eL1WNh9pkZlZ"
      }
    },
    {
      "cell_type": "markdown",
      "source": [
        "**Modular programming**:  \n",
        "- Break programs into modules/files.  \n",
        "- Each function has a single purpose.  \n",
        "- Improves readability and testing\n"
      ],
      "metadata": {
        "id": "BYk5Bc0elf0b"
      }
    },
    {
      "cell_type": "code",
      "source": [
        "# math_operations.py\n",
        "def add(a, b): return a + b\n",
        "def subtract(a, b): return a - b\n",
        "\n",
        "# main_program.py\n",
        "print(\"Result:\", add(10, 5))\n"
      ],
      "metadata": {
        "colab": {
          "base_uri": "https://localhost:8080/"
        },
        "id": "TTvA486CkYg7",
        "outputId": "83ecb2d1-3149-4402-8208-d8dd15f34751"
      },
      "execution_count": null,
      "outputs": [
        {
          "output_type": "stream",
          "name": "stdout",
          "text": [
            "Result: 15\n"
          ]
        }
      ]
    },
    {
      "cell_type": "code",
      "source": [],
      "metadata": {
        "id": "rkcnAEnImQmi"
      },
      "execution_count": null,
      "outputs": []
    }
  ]
}